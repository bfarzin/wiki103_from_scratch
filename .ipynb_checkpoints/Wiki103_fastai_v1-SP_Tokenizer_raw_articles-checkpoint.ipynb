{
 "cells": [
  {
   "cell_type": "code",
   "execution_count": 1,
   "metadata": {},
   "outputs": [],
   "source": [
    "%reload_ext autoreload\n",
    "%autoreload 2"
   ]
  },
  {
   "cell_type": "code",
   "execution_count": 2,
   "metadata": {},
   "outputs": [],
   "source": [
    "import os\n",
    "os.environ[\"CUDA_VISIBLE_DEVICES\"]=\"1\""
   ]
  },
  {
   "cell_type": "code",
   "execution_count": 3,
   "metadata": {},
   "outputs": [],
   "source": [
    "from fastai import *\n",
    "from fastai.text import *\n",
    "\n",
    "import re\n",
    "import sentencepiece as spm #https://github.com/google/sentencepiece"
   ]
  },
  {
   "cell_type": "markdown",
   "metadata": {},
   "source": [
    "# Python code Examples (testing out tokenizer)"
   ]
  },
  {
   "cell_type": "markdown",
   "metadata": {},
   "source": [
    "## Data"
   ]
  },
  {
   "cell_type": "markdown",
   "metadata": {},
   "source": [
    "### Reading the texts"
   ]
  },
  {
   "cell_type": "code",
   "execution_count": 4,
   "metadata": {},
   "outputs": [],
   "source": [
    "PATH = Path('/home/farzin/rnn_python_code/wiki103_from_download')"
   ]
  },
  {
   "cell_type": "code",
   "execution_count": 5,
   "metadata": {},
   "outputs": [
    {
     "name": "stderr",
     "output_type": "stream",
     "text": [
      "/home/farzin/anaconda3/envs/fastaiv1_dev/lib/python3.7/site-packages/ipykernel_launcher.py:1: ParserWarning: Falling back to the 'python' engine because the 'c' engine does not support regex separators (separators > 1 char and different from '\\s+' are interpreted as regex); you can avoid this warning by specifying engine='python'.\n",
      "  \"\"\"Entry point for launching an IPython kernel.\n"
     ]
    }
   ],
   "source": [
    "all_texts_df = pd.read_csv('/home/farzin/fast_ai/fastai_v1/courses/dl2/imdb_scripts/data/wiki/en/train.csv',sep='%$#')"
   ]
  },
  {
   "cell_type": "code",
   "execution_count": 6,
   "metadata": {},
   "outputs": [],
   "source": [
    "all_texts = all_texts_df.values.squeeze()"
   ]
  },
  {
   "cell_type": "code",
   "execution_count": 7,
   "metadata": {},
   "outputs": [],
   "source": [
    "#all_texts = np.concatenate([train_texts,valid_texts])\n",
    "idx = np.random.permutation(len(all_texts))\n",
    "cut = int(0.1 * len(idx))\n",
    "train_df = pd.DataFrame({'text':all_texts[idx[cut:]], 'labels':[0] * (len(all_texts)-cut)}, columns=['labels','text'])\n",
    "valid_df = pd.DataFrame({'text':all_texts[idx[:cut]], 'labels':[0] * cut}, columns=['labels','text'])\n",
    "\n",
    "train_df = train_df.dropna()\n",
    "valid_df = valid_df.dropna()"
   ]
  },
  {
   "cell_type": "markdown",
   "metadata": {},
   "source": [
    "### Sentence Piece expects some extra tokens"
   ]
  },
  {
   "cell_type": "code",
   "execution_count": 8,
   "metadata": {},
   "outputs": [],
   "source": [
    "spec_char_cleaned = train_df['text']\n",
    "train_df['new_text'] = '<s>' +spec_char_cleaned + '</s>'        "
   ]
  },
  {
   "cell_type": "code",
   "execution_count": 9,
   "metadata": {},
   "outputs": [
    {
     "data": {
      "text/plain": [
       "0    <s>It is analogous to the classifying space fo...\n",
       "1    <s>The above agency keeps a record of the samp...\n",
       "2                       <s>Chettikulangara Temple.</s>\n",
       "3                                    <s>\"KQIK (AM)</s>\n",
       "4    <s>Gordon Henry(born 1955) is a poet and ficti...\n",
       "Name: new_text, dtype: object"
      ]
     },
     "execution_count": 9,
     "metadata": {},
     "output_type": "execute_result"
    }
   ],
   "source": [
    "train_df['new_text'].head()"
   ]
  },
  {
   "cell_type": "markdown",
   "metadata": {},
   "source": [
    "Save the file down so we can call the SWIG wrapped sentencepice app"
   ]
  },
  {
   "cell_type": "code",
   "execution_count": 10,
   "metadata": {},
   "outputs": [],
   "source": [
    "formatted_text_file = 'wk103_text_download'"
   ]
  },
  {
   "cell_type": "code",
   "execution_count": 11,
   "metadata": {},
   "outputs": [],
   "source": [
    "train_df['new_text'].to_frame().to_csv(formatted_text_file, header=False,index=False,quotechar=' ')"
   ]
  },
  {
   "cell_type": "markdown",
   "metadata": {},
   "source": [
    "### SentencePiece tokenizer wrapped appropriately"
   ]
  },
  {
   "cell_type": "code",
   "execution_count": 12,
   "metadata": {},
   "outputs": [],
   "source": [
    "# m.model and m.vocab created in the pwd\n",
    "vocab_size = 60000\n",
    "model_prefix = 'wk103m'"
   ]
  },
  {
   "cell_type": "code",
   "execution_count": null,
   "metadata": {},
   "outputs": [],
   "source": [
    "spm.SentencePieceTrainer.Train(f'--input={formatted_text_file}'\\\n",
    "                               f' --model_prefix={model_prefix}'\\\n",
    "                               f' --vocab_size={vocab_size}')\n",
    "#                               f'--unk_piece={UNK} --bos_piece={BOS} --eos_id=-1 --pad_piece={PAD}')"
   ]
  },
  {
   "cell_type": "code",
   "execution_count": 15,
   "metadata": {},
   "outputs": [
    {
     "data": {
      "text/plain": [
       "True"
      ]
     },
     "execution_count": 15,
     "metadata": {},
     "output_type": "execute_result"
    }
   ],
   "source": [
    "sp = spm.SentencePieceProcessor()\n",
    "sp.load(f'{model_prefix}.model')"
   ]
  },
  {
   "cell_type": "code",
   "execution_count": 14,
   "metadata": {},
   "outputs": [
    {
     "name": "stdout",
     "output_type": "stream",
     "text": [
      "     1\t<unk>\t0\r\n",
      "     2\t<s>\t0\r\n",
      "     3\t</s>\t0\r\n",
      "     4\t▁\t-2.56885\r\n",
      "     5\t▁the\t-3.10592\r\n",
      "     6\t,\t-3.32733\r\n",
      "     7\t.\t-3.3329\r\n",
      "     8\t▁of\t-3.71478\r\n",
      "     9\t▁and\t-3.85433\r\n",
      "    10\t▁in\t-3.99789\r\n",
      "    11\t▁to\t-4.19052\r\n",
      "    12\ts\t-4.20986\r\n",
      "    13\t▁a\t-4.22267\r\n",
      "    14\t▁was\t-4.70678\r\n",
      "    15\t-\t-4.87169\r\n",
      "    16\t▁\"\"\t-4.91273\r\n",
      "    17\t▁is\t-4.97553\r\n",
      "    18\t\"\"\t-5.03327\r\n",
      "    19\t'\t-5.10017\r\n",
      "    20\t▁for\t-5.12424\r\n",
      "    21\t▁on\t-5.21511\r\n",
      "    22\t▁as\t-5.2155\r\n",
      "    23\t▁with\t-5.28584\r\n",
      "    24\t▁by\t-5.29711\r\n",
      "    25\t▁(\t-5.38431\r\n",
      "    26\t▁The\t-5.46781\r\n",
      "    27\t▁that\t-5.48019\r\n",
      "    28\t▁from\t-5.60573\r\n",
      "    29\t▁at\t-5.62022\r\n",
      "    30\t\"\t-5.63823\r\n",
      "    31\t▁his\t-5.70481\r\n",
      "    32\tThe\t-5.71977\r\n",
      "    33\t▁he\t-5.89781\r\n",
      "    34\t▁an\t-5.91009\r\n",
      "    35\t)\t-5.93896\r\n",
      "    36\t▁were\t-6.09722\r\n",
      "    37\t▁are\t-6.11352\r\n",
      "    38\t▁which\t-6.13554\r\n",
      "    39\t▁it\t-6.18178\r\n",
      "    40\t▁be\t-6.26719\r\n",
      "    41\t▁He\t-6.29722\r\n",
      "    42\t▁also\t-6.33058\r\n",
      "    43\t▁had\t-6.36613\r\n",
      "    44\t▁has\t-6.38715\r\n",
      "    45\t:\t-6.41574\r\n",
      "    46\t▁In\t-6.42317\r\n",
      "    47\t▁or\t-6.43654\r\n",
      "    48\t▁first\t-6.46217\r\n",
      "    49\t▁their\t-6.54619\r\n",
      "    50\tIn\t-6.56\r\n",
      "    51\t▁not\t-6.62904\r\n",
      "    52\t▁but\t-6.63601\r\n",
      "    53\t▁one\t-6.64003\r\n",
      "    54\t▁its\t-6.65892\r\n",
      "    55\t▁who\t-6.68122\r\n",
      "    56\t\"\",\t-6.69562\r\n",
      "    57\t▁It\t-6.70524\r\n",
      "    58\t▁have\t-6.70922\r\n",
      "    59\t▁this\t-6.73383\r\n",
      "    60\t▁her\t-6.73736\r\n",
      "    61\t▁two\t-6.75759\r\n",
      "    62\t▁been\t-6.78301\r\n",
      "    63\t;\t-6.824\r\n",
      "    64\ta\t-6.87153\r\n",
      "    65\te\t-6.88943\r\n",
      "    66\ting\t-6.88944\r\n",
      "    67\t\"\".\t-6.92526\r\n",
      "    68\t▁after\t-6.94083\r\n",
      "    69\tth\t-6.94294\r\n",
      "    70\t▁other\t-6.97355\r\n",
      "    71\t▁A\t-6.98971\r\n",
      "    72\t▁they\t-6.99473\r\n",
      "    73\t▁into\t-7.01049\r\n",
      "    74\t▁time\t-7.0748\r\n",
      "    75\t),\t-7.11914\r\n",
      "    76\t).\t-7.1324\r\n",
      "    77\t▁all\t-7.14458\r\n",
      "    78\t▁when\t-7.14561\r\n",
      "    79\tA\t-7.16188\r\n",
      "    80\t▁she\t-7.17716\r\n",
      "    81\ted\t-7.18761\r\n",
      "    82\t▁more\t-7.19072\r\n",
      "    83\t▁over\t-7.20372\r\n",
      "    84\t▁would\t-7.21846\r\n",
      "    85\t▁New\t-7.24506\r\n",
      "    86\t▁during\t-7.25496\r\n",
      "    87\t▁only\t-7.25896\r\n",
      "    88\t▁years\t-7.26\r\n",
      "    89\t▁new\t-7.27388\r\n",
      "    90\tS\t-7.27586\r\n",
      "    91\td\t-7.30203\r\n",
      "    92\t▁where\t-7.30537\r\n",
      "    93\t▁can\t-7.31441\r\n",
      "    94\tt\t-7.31499\r\n",
      "    95\t▁between\t-7.32486\r\n",
      "    96\t▁used\t-7.33927\r\n",
      "    97\t▁him\t-7.34999\r\n",
      "    98\t▁up\t-7.36086\r\n",
      "    99\t▁three\t-7.37147\r\n",
      "   100\t▁out\t-7.38786\r\n",
      "   101\t▁most\t-7.38996\r\n",
      "   102\t▁such\t-7.39954\r\n",
      "   103\t▁then\t-7.40473\r\n",
      "   104\t▁later\t-7.40553\r\n",
      "   105\t▁made\t-7.40713\r\n",
      "   106\t▁This\t-7.40973\r\n",
      "   107\t▁became\t-7.4564\r\n",
      "   108\ty\t-7.45714\r\n",
      "   109\t▁than\t-7.46037\r\n",
      "   110\t▁known\t-7.46312\r\n",
      "   111\t▁about\t-7.46349\r\n",
      "   112\t▁part\t-7.46485\r\n",
      "   113\t▁United\t-7.47315\r\n",
      "   114\t▁season\t-7.48154\r\n",
      "   115\t/\t-7.48369\r\n",
      "   116\ter\t-7.49796\r\n",
      "   117\ti\t-7.50811\r\n",
      "   118\t▁some\t-7.51034\r\n",
      "   119\t▁I\t-7.51409\r\n",
      "   120\t▁well\t-7.51479\r\n",
      "   121\t▁being\t-7.51933\r\n",
      "   122\tin\t-7.52145\r\n",
      "   123\tn\t-7.52194\r\n",
      "   124\t▁under\t-7.52396\r\n",
      "   125\t▁year\t-7.53526\r\n",
      "   126\t▁many\t-7.55535\r\n",
      "   127\to\t-7.56308\r\n",
      "   128\t▁through\t-7.57348\r\n",
      "   129\t▁University\t-7.57542\r\n",
      "   130\tly\t-7.59918\r\n"
     ]
    }
   ],
   "source": [
    "#Head of the Vocab file: Line nums indicate index of vocab\n",
    "!head -n130 {model_prefix}.vocab | nl"
   ]
  },
  {
   "cell_type": "code",
   "execution_count": 16,
   "metadata": {},
   "outputs": [],
   "source": [
    "## itos from m.vocab file: just read directly and populate the dictionary\n",
    "itos = {}\n",
    "with open(f'{model_prefix}.vocab','r') as f:\n",
    "    for line_num,line in enumerate(f):\n",
    "        itos[line_num] = line.split(\"\\t\")[0]\n",
    "        \n",
    "stoi = {v:k for k,v in itos.items()}"
   ]
  },
  {
   "cell_type": "code",
   "execution_count": 17,
   "metadata": {},
   "outputs": [],
   "source": [
    "class CustomTokenizer():\n",
    "    '''Wrapper for SentencePiece toeknizer to fit into Fast.ai V1'''\n",
    "    def __init__(self,sp_processor,replace_dict=None,n_cpus=None):\n",
    "        self.sp = sp_processor\n",
    "        self.replace_dict = replace_dict\n",
    "        self.n_cpus = n_cpus or num_cpus()//2        \n",
    "        \n",
    "    def __repr__(self) -> str:\n",
    "        return \"Custom Tokenizer\"\n",
    "\n",
    "    def process_text(self, t:str) -> List[str]:\n",
    "        \"Processe one text `t` with tokenizer `tok`.\"  \n",
    "        if self.replace_dict is not None:\n",
    "            t = find_replace_python_str(t,self.replace_dict)        \n",
    "        toks = sp.EncodeAsIds(t)\n",
    "        return toks \n",
    "    \n",
    "    def _process_all_1(self,texts:Collection[str]) -> List[List[str]]:\n",
    "        'Process a list of `texts` in one process'\n",
    "        return [self.process_text(t) for t in texts]\n",
    "                                                                     \n",
    "    def process_all(self, texts:Collection[str]) -> List[List[str]]: \n",
    "        \"Process a list of `texts`.\"                                 \n",
    "        return self._process_all_1(texts)"
   ]
  },
  {
   "cell_type": "code",
   "execution_count": 19,
   "metadata": {},
   "outputs": [],
   "source": [
    "mycust_tok = CustomTokenizer(sp,n_cpus=2)"
   ]
  },
  {
   "cell_type": "code",
   "execution_count": 20,
   "metadata": {},
   "outputs": [],
   "source": [
    "#setup Vocab object for use in LM\n",
    "sp_vocab = Vocab(itos)"
   ]
  },
  {
   "cell_type": "markdown",
   "metadata": {},
   "source": [
    "### build LM from tokenizer and Vocab"
   ]
  },
  {
   "cell_type": "code",
   "execution_count": 21,
   "metadata": {},
   "outputs": [],
   "source": [
    "data = TextLMDataBunch.from_df(PATH, train_df, valid_df, \n",
    "                               tokenizer=mycust_tok, vocab=sp_vocab, \n",
    "                               text_cols='text', label_cols='labels')"
   ]
  },
  {
   "cell_type": "code",
   "execution_count": 22,
   "metadata": {},
   "outputs": [],
   "source": [
    "os.makedirs(PATH/'sp_tokenizer', exist_ok=True)"
   ]
  },
  {
   "cell_type": "code",
   "execution_count": 23,
   "metadata": {},
   "outputs": [],
   "source": [
    "data.save(cache_name=PATH/'sp_tokenizer')"
   ]
  },
  {
   "cell_type": "code",
   "execution_count": 24,
   "metadata": {},
   "outputs": [
    {
     "name": "stdout",
     "output_type": "stream",
     "text": [
      "total 1.3G\r\n",
      "drwxrwxr-x 5 farzin farzin 4.0K Jan 17 13:37 ..\r\n",
      "-rw-rw-r-- 1 farzin farzin 1.3M Jan 17 13:37 itos.pkl\r\n",
      "-rw-rw-r-- 1 farzin farzin 1.2G Jan 17 13:37 train_ids.npy\r\n",
      "-rw-rw-r-- 1 farzin farzin  20M Jan 17 13:37 train_lbl.npy\r\n",
      "-rw-rw-r-- 1 farzin farzin 130M Jan 17 13:38 valid_ids.npy\r\n",
      "-rw-rw-r-- 1 farzin farzin 2.2M Jan 17 13:38 valid_lbl.npy\r\n",
      "-rw-rw-r-- 1 farzin farzin    2 Jan 17 13:38 classes.txt\r\n",
      "drwxrwxr-x 2 farzin farzin 4.0K Jan 17 13:38 .\r\n"
     ]
    }
   ],
   "source": [
    "!ls -lhart {PATH}/'sp_tokenizer'"
   ]
  },
  {
   "cell_type": "code",
   "execution_count": 16,
   "metadata": {},
   "outputs": [],
   "source": [
    "from fastai.text.data import _get_processor\n",
    "my_processor = _get_processor(mycust_tok,sp_vocab)\n",
    "data = TextLMDataBunch.load(path=PATH,cache_name='sp_tokenizer',processor=my_processor)"
   ]
  },
  {
   "cell_type": "code",
   "execution_count": 28,
   "metadata": {},
   "outputs": [
    {
     "data": {
      "text/plain": [
       "SequentialRNN(\n",
       "  (0): RNNCore(\n",
       "    (encoder): Embedding(60000, 400, padding_idx=1)\n",
       "    (encoder_dp): EmbeddingDropout(\n",
       "      (emb): Embedding(60000, 400, padding_idx=1)\n",
       "    )\n",
       "    (rnns): ModuleList(\n",
       "      (0): QRNNLayer(\n",
       "        (linear): WeightDropout(\n",
       "          (module): Linear(in_features=800, out_features=3333, bias=True)\n",
       "        )\n",
       "      )\n",
       "      (1): QRNNLayer(\n",
       "        (linear): WeightDropout(\n",
       "          (module): Linear(in_features=1111, out_features=3333, bias=True)\n",
       "        )\n",
       "      )\n",
       "      (2): QRNNLayer(\n",
       "        (linear): WeightDropout(\n",
       "          (module): Linear(in_features=1111, out_features=3333, bias=True)\n",
       "        )\n",
       "      )\n",
       "      (3): QRNNLayer(\n",
       "        (linear): WeightDropout(\n",
       "          (module): Linear(in_features=1111, out_features=1200, bias=True)\n",
       "        )\n",
       "      )\n",
       "    )\n",
       "    (input_dp): RNNDropout()\n",
       "    (hidden_dps): ModuleList(\n",
       "      (0): RNNDropout()\n",
       "      (1): RNNDropout()\n",
       "      (2): RNNDropout()\n",
       "      (3): RNNDropout()\n",
       "    )\n",
       "  )\n",
       "  (1): LinearDecoder(\n",
       "    (decoder): Linear(in_features=400, out_features=60000, bias=True)\n",
       "    (output_dp): RNNDropout()\n",
       "  )\n",
       ")"
      ]
     },
     "execution_count": 28,
     "metadata": {},
     "output_type": "execute_result"
    }
   ],
   "source": [
    "#data.batch_size = 16\n",
    "bptt = 140\n",
    "emb_sz,nh,nl = 400,1111,4\n",
    "\n",
    "learn = language_model_learner(data,bptt,emb_sz,nh,nl,drop_mult=0.5,qrnn=True)\n",
    "learn.unfreeze()\n",
    "learn.model"
   ]
  },
  {
   "cell_type": "code",
   "execution_count": 26,
   "metadata": {},
   "outputs": [
    {
     "name": "stdout",
     "output_type": "stream",
     "text": [
      "LR Finder is complete, type {learner_name}.recorder.plot() to see the graph.\n"
     ]
    },
    {
     "data": {
      "image/png": "[encoded data removed]",
      "text/plain": [
       "<Figure size 432x288 with 1 Axes>"
      ]
     },
     "metadata": {
      "needs_background": "light"
     },
     "output_type": "display_data"
    }
   ],
   "source": [
    "lr_find(learn)\n",
    "learn.recorder.plot()"
   ]
  },
  {
   "cell_type": "code",
   "execution_count": 29,
   "metadata": {},
   "outputs": [
    {
     "data": {
      "text/html": [
       "Total time: 10:30:11 <p><table style='width:300px; margin-bottom:10px'>\n",
       "  <tr>\n",
       "    <th>epoch</th>\n",
       "    <th>train_loss</th>\n",
       "    <th>valid_loss</th>\n",
       "    <th>accuracy</th>\n",
       "  </tr>\n",
       "  <tr>\n",
       "    <th>1</th>\n",
       "    <th>4.924659</th>\n",
       "    <th>4.793722</th>\n",
       "    <th>0.279016</th>\n",
       "  </tr>\n",
       "  <tr>\n",
       "    <th>2</th>\n",
       "    <th>4.782756</th>\n",
       "    <th>4.640035</th>\n",
       "    <th>0.289717</th>\n",
       "  </tr>\n",
       "  <tr>\n",
       "    <th>3</th>\n",
       "    <th>4.515332</th>\n",
       "    <th>4.385171</th>\n",
       "    <th>0.309784</th>\n",
       "  </tr>\n",
       "  <tr>\n",
       "    <th>4</th>\n",
       "    <th>4.379240</th>\n",
       "    <th>4.227416</th>\n",
       "    <th>0.325146</th>\n",
       "  </tr>\n",
       "</table>\n"
      ],
      "text/plain": [
       "<IPython.core.display.HTML object>"
      ]
     },
     "metadata": {},
     "output_type": "display_data"
    }
   ],
   "source": [
    "learn.fit_one_cycle(4, 1e-2, moms=(0.8,0.7), wd=0.03, pct_start=0.25)"
   ]
  },
  {
   "cell_type": "code",
   "execution_count": 30,
   "metadata": {},
   "outputs": [
    {
     "data": {
      "image/png": "[encoded data removed]",
      "text/plain": [
       "<Figure size 432x288 with 1 Axes>"
      ]
     },
     "metadata": {
      "needs_background": "light"
     },
     "output_type": "display_data"
    }
   ],
   "source": [
    "learn.recorder.plot_losses()"
   ]
  },
  {
   "cell_type": "code",
   "execution_count": 31,
   "metadata": {},
   "outputs": [
    {
     "data": {
      "text/html": [
       "Total time: 28:52:48 <p><table style='width:300px; margin-bottom:10px'>\n",
       "  <tr>\n",
       "    <th>epoch</th>\n",
       "    <th>train_loss</th>\n",
       "    <th>valid_loss</th>\n",
       "    <th>accuracy</th>\n",
       "  </tr>\n",
       "  <tr>\n",
       "    <th>1</th>\n",
       "    <th>4.560749</th>\n",
       "    <th>4.421819</th>\n",
       "    <th>0.307159</th>\n",
       "  </tr>\n",
       "  <tr>\n",
       "    <th>2</th>\n",
       "    <th>4.811614</th>\n",
       "    <th>4.675819</th>\n",
       "    <th>0.286210</th>\n",
       "  </tr>\n",
       "  <tr>\n",
       "    <th>3</th>\n",
       "    <th>4.854005</th>\n",
       "    <th>4.706613</th>\n",
       "    <th>0.284898</th>\n",
       "  </tr>\n",
       "  <tr>\n",
       "    <th>4</th>\n",
       "    <th>4.802364</th>\n",
       "    <th>4.670103</th>\n",
       "    <th>0.287742</th>\n",
       "  </tr>\n",
       "  <tr>\n",
       "    <th>5</th>\n",
       "    <th>4.743124</th>\n",
       "    <th>4.603476</th>\n",
       "    <th>0.292810</th>\n",
       "  </tr>\n",
       "  <tr>\n",
       "    <th>6</th>\n",
       "    <th>4.651075</th>\n",
       "    <th>4.512500</th>\n",
       "    <th>0.299381</th>\n",
       "  </tr>\n",
       "  <tr>\n",
       "    <th>7</th>\n",
       "    <th>4.536386</th>\n",
       "    <th>4.401228</th>\n",
       "    <th>0.307731</th>\n",
       "  </tr>\n",
       "  <tr>\n",
       "    <th>8</th>\n",
       "    <th>4.437648</th>\n",
       "    <th>4.287876</th>\n",
       "    <th>0.318629</th>\n",
       "  </tr>\n",
       "  <tr>\n",
       "    <th>9</th>\n",
       "    <th>4.367714</th>\n",
       "    <th>4.187848</th>\n",
       "    <th>0.328665</th>\n",
       "  </tr>\n",
       "  <tr>\n",
       "    <th>10</th>\n",
       "    <th>4.322928</th>\n",
       "    <th>4.153242</th>\n",
       "    <th>0.332537</th>\n",
       "  </tr>\n",
       "</table>\n"
      ],
      "text/plain": [
       "<IPython.core.display.HTML object>"
      ]
     },
     "metadata": {},
     "output_type": "display_data"
    },
    {
     "data": {
      "image/png": "[encoded data removed]",
      "text/plain": [
       "<Figure size 432x288 with 1 Axes>"
      ]
     },
     "metadata": {
      "needs_background": "light"
     },
     "output_type": "display_data"
    }
   ],
   "source": [
    "learn.fit_one_cycle(10, 1e-2, moms=(0.8,0.7), wd=0.03, pct_start=0.25)\n",
    "learn.recorder.plot_losses()"
   ]
  },
  {
   "cell_type": "code",
   "execution_count": 33,
   "metadata": {},
   "outputs": [
    {
     "data": {
      "image/png": "[encoded data removed]",
      "text/plain": [
       "<Figure size 864x288 with 2 Axes>"
      ]
     },
     "metadata": {
      "needs_background": "light"
     },
     "output_type": "display_data"
    }
   ],
   "source": [
    "learn.recorder.plot_lr(show_moms=True)"
   ]
  },
  {
   "cell_type": "code",
   "execution_count": 34,
   "metadata": {},
   "outputs": [
    {
     "data": {
      "text/html": [
       "Total time: 10:56:24 <p><table style='width:300px; margin-bottom:10px'>\n",
       "  <tr>\n",
       "    <th>epoch</th>\n",
       "    <th>train_loss</th>\n",
       "    <th>valid_loss</th>\n",
       "    <th>accuracy</th>\n",
       "  </tr>\n",
       "  <tr>\n",
       "    <th>1</th>\n",
       "    <th>4.459930</th>\n",
       "    <th>4.314294</th>\n",
       "    <th>0.316137</th>\n",
       "  </tr>\n",
       "  <tr>\n",
       "    <th>2</th>\n",
       "    <th>4.406609</th>\n",
       "    <th>4.247024</th>\n",
       "    <th>0.322286</th>\n",
       "  </tr>\n",
       "  <tr>\n",
       "    <th>3</th>\n",
       "    <th>4.326707</th>\n",
       "    <th>4.158190</th>\n",
       "    <th>0.331646</th>\n",
       "  </tr>\n",
       "  <tr>\n",
       "    <th>4</th>\n",
       "    <th>4.269075</th>\n",
       "    <th>4.117231</th>\n",
       "    <th>0.336263</th>\n",
       "  </tr>\n",
       "</table>\n"
      ],
      "text/plain": [
       "<IPython.core.display.HTML object>"
      ]
     },
     "metadata": {},
     "output_type": "display_data"
    }
   ],
   "source": [
    "learn.fit_one_cycle(4, 1e-2/4, moms=(0.95,0.8), wd=0.03, pct_start=0.15)"
   ]
  },
  {
   "cell_type": "code",
   "execution_count": 35,
   "metadata": {},
   "outputs": [
    {
     "data": {
      "text/plain": [
       "61.374841277416465"
      ]
     },
     "execution_count": 35,
     "metadata": {},
     "output_type": "execute_result"
    }
   ],
   "source": [
    "np.exp(4.117)"
   ]
  },
  {
   "cell_type": "code",
   "execution_count": 36,
   "metadata": {},
   "outputs": [],
   "source": [
    "learn.save(\"wiki103_raw_articles_sentencepiece_20190123\")\n",
    "learn.save_encoder('wiki103_sp_enc')"
   ]
  }
 ],
 "metadata": {
  "kernelspec": {
   "display_name": "Python 3.7 fasta.ai1 DEV",
   "language": "python",
   "name": "fastai1_dev"
  },
  "language_info": {
   "codemirror_mode": {
    "name": "ipython",
    "version": 3
   },
   "file_extension": ".py",
   "mimetype": "text/x-python",
   "name": "python",
   "nbconvert_exporter": "python",
   "pygments_lexer": "ipython3",
   "version": "3.7.1"
  },
  "varInspector": {
   "cols": {
    "lenName": 16,
    "lenType": 16,
    "lenVar": 40
   },
   "kernels_config": {
    "python": {
     "delete_cmd_postfix": "",
     "delete_cmd_prefix": "del ",
     "library": "var_list.py",
     "varRefreshCmd": "print(var_dic_list())"
    },
    "r": {
     "delete_cmd_postfix": ") ",
     "delete_cmd_prefix": "rm(",
     "library": "var_list.r",
     "varRefreshCmd": "cat(var_dic_list()) "
    }
   },
   "types_to_exclude": [
    "module",
    "function",
    "builtin_function_or_method",
    "instance",
    "_Feature"
   ],
   "window_display": false
  }
 },
 "nbformat": 4,
 "nbformat_minor": 2
}
