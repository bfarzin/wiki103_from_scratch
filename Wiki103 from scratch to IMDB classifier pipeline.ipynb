{
 "cells": [
  {
   "cell_type": "code",
   "execution_count": 1,
   "metadata": {},
   "outputs": [],
   "source": [
    "%reload_ext autoreload\n",
    "%autoreload 2"
   ]
  },
  {
   "cell_type": "code",
   "execution_count": 2,
   "metadata": {},
   "outputs": [],
   "source": [
    "import os\n",
    "os.environ[\"CUDA_VISIBLE_DEVICES\"]=\"0\""
   ]
  },
  {
   "cell_type": "code",
   "execution_count": 3,
   "metadata": {},
   "outputs": [],
   "source": [
    "from fastai import *\n",
    "from fastai.text import *\n",
    "\n",
    "import re\n",
    "import sentencepiece as spm #https://github.com/google/sentencepiece"
   ]
  },
  {
   "cell_type": "code",
   "execution_count": 4,
   "metadata": {},
   "outputs": [],
   "source": [
    "np.random.seed(20190123)"
   ]
  },
  {
   "cell_type": "code",
   "execution_count": 5,
   "metadata": {},
   "outputs": [],
   "source": [
    "PATH = Path('/home/farzin/rnn_python_code/wiki103_from_download')"
   ]
  },
  {
   "cell_type": "markdown",
   "metadata": {},
   "source": [
    "### Pull and prep IMDB data for supervised and unsupervised step"
   ]
  },
  {
   "cell_type": "code",
   "execution_count": 6,
   "metadata": {},
   "outputs": [
    {
     "data": {
      "text/plain": [
       "PosixPath('/home/farzin/.fastai/data/imdb')"
      ]
     },
     "execution_count": 6,
     "metadata": {},
     "output_type": "execute_result"
    }
   ],
   "source": [
    "IMDB_PATH = untar_data(URLs.IMDB)\n",
    "IMDB_PATH"
   ]
  },
  {
   "cell_type": "code",
   "execution_count": 7,
   "metadata": {},
   "outputs": [],
   "source": [
    "CLAS_PATH = PATH/'clas'\n",
    "LM_PATH = PATH/'lm'\n",
    "os.makedirs(CLAS_PATH, exist_ok=True)\n",
    "os.makedirs(LM_PATH, exist_ok=True)"
   ]
  },
  {
   "cell_type": "code",
   "execution_count": 8,
   "metadata": {},
   "outputs": [],
   "source": [
    "## raw data does not have the unsup in the train directory.  Just move it there\n",
    "#  ~/.fastai/data/imdb$ mv unsup/ ./train/\n",
    "CLASSES = ['neg', 'pos', 'unsup']\n",
    "\n",
    "def get_texts(path):\n",
    "    texts,labels,scores = [],[],[]\n",
    "    for idx,label in enumerate(CLASSES):\n",
    "        for fname in (path/label).glob('*.*'):\n",
    "            texts.append(fname.open('r', encoding='utf8').read())\n",
    "            labels.append(idx)\n",
    "            review_name = listify(fname.parts)[-1].split('.')[0]\n",
    "            scores.append( int(review_name.split(\"_\")[1]) )\n",
    "\n",
    "    return np.array(texts),np.array(labels),np.array(scores)\n",
    "\n",
    "train_texts,train_labels,train_scr = get_texts(IMDB_PATH/'train')\n",
    "valid_texts,valid_labels,valid_scr = get_texts(IMDB_PATH/'test')"
   ]
  },
  {
   "cell_type": "code",
   "execution_count": 9,
   "metadata": {},
   "outputs": [
    {
     "data": {
      "text/plain": [
       "(75000, 25000)"
      ]
     },
     "execution_count": 9,
     "metadata": {},
     "output_type": "execute_result"
    }
   ],
   "source": [
    "len(train_texts),len(valid_texts)"
   ]
  },
  {
   "cell_type": "code",
   "execution_count": 10,
   "metadata": {},
   "outputs": [],
   "source": [
    "train_idx = np.random.permutation(len(train_texts))\n",
    "valid_idx = np.random.permutation(len(valid_texts))\n",
    "\n",
    "train_texts,train_labels,train_scr = train_texts[train_idx],train_labels[train_idx],train_scr[train_idx]\n",
    "valid_texts,valid_labels,valid_scr = valid_texts[valid_idx],valid_labels[valid_idx],valid_scr[valid_idx]"
   ]
  },
  {
   "cell_type": "code",
   "execution_count": 11,
   "metadata": {},
   "outputs": [],
   "source": [
    "train_df = pd.DataFrame({'text':train_texts, 'labels':train_labels, 'rating':train_scr}, columns=['labels','text','rating'])\n",
    "valid_df = pd.DataFrame({'text':valid_texts, 'labels':valid_labels, 'rating':valid_scr}, columns=['labels','text','rating'])"
   ]
  },
  {
   "cell_type": "code",
   "execution_count": 12,
   "metadata": {},
   "outputs": [
    {
     "name": "stdout",
     "output_type": "stream",
     "text": [
      "1    5100\n",
      "4    2696\n",
      "3    2420\n",
      "2    2284\n",
      "Name: rating, dtype: int64\n",
      "10    4732\n",
      "8     3009\n",
      "7     2496\n",
      "9     2263\n",
      "Name: rating, dtype: int64\n",
      "0    50000\n",
      "Name: rating, dtype: int64\n"
     ]
    }
   ],
   "source": [
    "for this_cls in range(3):\n",
    "    print(train_df[train_df.labels == this_cls]['rating'].value_counts())"
   ]
  },
  {
   "cell_type": "code",
   "execution_count": 13,
   "metadata": {},
   "outputs": [],
   "source": [
    "all_texts = np.concatenate([train_texts,valid_texts])\n",
    "idx = np.random.permutation(len(all_texts))\n",
    "cut = int(0.1 * len(idx))\n",
    "LM_train_df = pd.DataFrame({'text':all_texts[idx[cut:]], 'labels':[0] * (len(all_texts)-cut)}, columns=['labels','text'])\n",
    "LM_valid_df = pd.DataFrame({'text':all_texts[idx[:cut]], 'labels':[0] * cut}, columns=['labels','text'])"
   ]
  },
  {
   "cell_type": "code",
   "execution_count": 14,
   "metadata": {},
   "outputs": [
    {
     "data": {
      "text/plain": [
       "(100000, 90000, 10000)"
      ]
     },
     "execution_count": 14,
     "metadata": {},
     "output_type": "execute_result"
    }
   ],
   "source": [
    "len(all_texts),len(LM_train_df),len(LM_valid_df)"
   ]
  },
  {
   "cell_type": "code",
   "execution_count": 15,
   "metadata": {},
   "outputs": [
    {
     "data": {
      "text/html": [
       "<div>\n",
       "<style scoped>\n",
       "    .dataframe tbody tr th:only-of-type {\n",
       "        vertical-align: middle;\n",
       "    }\n",
       "\n",
       "    .dataframe tbody tr th {\n",
       "        vertical-align: top;\n",
       "    }\n",
       "\n",
       "    .dataframe thead th {\n",
       "        text-align: right;\n",
       "    }\n",
       "</style>\n",
       "<table border=\"1\" class=\"dataframe\">\n",
       "  <thead>\n",
       "    <tr style=\"text-align: right;\">\n",
       "      <th></th>\n",
       "      <th>labels</th>\n",
       "      <th>text</th>\n",
       "    </tr>\n",
       "  </thead>\n",
       "  <tbody>\n",
       "    <tr>\n",
       "      <th>0</th>\n",
       "      <td>0</td>\n",
       "      <td>Simply boring! This is one of the worst movies...</td>\n",
       "    </tr>\n",
       "    <tr>\n",
       "      <th>1</th>\n",
       "      <td>0</td>\n",
       "      <td>After you've watched The Love Bug, you will no...</td>\n",
       "    </tr>\n",
       "    <tr>\n",
       "      <th>2</th>\n",
       "      <td>0</td>\n",
       "      <td>The third Muppet movie is perhaps the most rel...</td>\n",
       "    </tr>\n",
       "    <tr>\n",
       "      <th>3</th>\n",
       "      <td>0</td>\n",
       "      <td>A movie like the life - complex, with unexpect...</td>\n",
       "    </tr>\n",
       "    <tr>\n",
       "      <th>4</th>\n",
       "      <td>0</td>\n",
       "      <td>&lt;br /&gt;&lt;br /&gt;I didn´t enjoy the film at all. Th...</td>\n",
       "    </tr>\n",
       "  </tbody>\n",
       "</table>\n",
       "</div>"
      ],
      "text/plain": [
       "   labels                                               text\n",
       "0       0  Simply boring! This is one of the worst movies...\n",
       "1       0  After you've watched The Love Bug, you will no...\n",
       "2       0  The third Muppet movie is perhaps the most rel...\n",
       "3       0  A movie like the life - complex, with unexpect...\n",
       "4       0  <br /><br />I didn´t enjoy the film at all. Th..."
      ]
     },
     "execution_count": 15,
     "metadata": {},
     "output_type": "execute_result"
    }
   ],
   "source": [
    "LM_train_df.head()"
   ]
  },
  {
   "cell_type": "code",
   "execution_count": 16,
   "metadata": {},
   "outputs": [
    {
     "data": {
      "text/html": [
       "<div>\n",
       "<style scoped>\n",
       "    .dataframe tbody tr th:only-of-type {\n",
       "        vertical-align: middle;\n",
       "    }\n",
       "\n",
       "    .dataframe tbody tr th {\n",
       "        vertical-align: top;\n",
       "    }\n",
       "\n",
       "    .dataframe thead th {\n",
       "        text-align: right;\n",
       "    }\n",
       "</style>\n",
       "<table border=\"1\" class=\"dataframe\">\n",
       "  <thead>\n",
       "    <tr style=\"text-align: right;\">\n",
       "      <th></th>\n",
       "      <th>labels</th>\n",
       "      <th>text</th>\n",
       "      <th>rating</th>\n",
       "    </tr>\n",
       "  </thead>\n",
       "  <tbody>\n",
       "    <tr>\n",
       "      <th>0</th>\n",
       "      <td>0</td>\n",
       "      <td>Another trashy Grade Z quickie from the prolif...</td>\n",
       "      <td>1</td>\n",
       "    </tr>\n",
       "    <tr>\n",
       "      <th>1</th>\n",
       "      <td>0</td>\n",
       "      <td>This show stinks. For parents, they usually wa...</td>\n",
       "      <td>2</td>\n",
       "    </tr>\n",
       "    <tr>\n",
       "      <th>5</th>\n",
       "      <td>1</td>\n",
       "      <td>Just two comments....SEVEN years apart? Hardly...</td>\n",
       "      <td>7</td>\n",
       "    </tr>\n",
       "    <tr>\n",
       "      <th>8</th>\n",
       "      <td>0</td>\n",
       "      <td>SOME NOT-SO-SPOILY SPOILERS AHEAD&lt;br /&gt;&lt;br /&gt;W...</td>\n",
       "      <td>4</td>\n",
       "    </tr>\n",
       "    <tr>\n",
       "      <th>10</th>\n",
       "      <td>1</td>\n",
       "      <td>This is a very funny movie, easy to watch, tha...</td>\n",
       "      <td>7</td>\n",
       "    </tr>\n",
       "  </tbody>\n",
       "</table>\n",
       "</div>"
      ],
      "text/plain": [
       "    labels                                               text  rating\n",
       "0        0  Another trashy Grade Z quickie from the prolif...       1\n",
       "1        0  This show stinks. For parents, they usually wa...       2\n",
       "5        1  Just two comments....SEVEN years apart? Hardly...       7\n",
       "8        0  SOME NOT-SO-SPOILY SPOILERS AHEAD<br /><br />W...       4\n",
       "10       1  This is a very funny movie, easy to watch, tha...       7"
      ]
     },
     "execution_count": 16,
     "metadata": {},
     "output_type": "execute_result"
    }
   ],
   "source": [
    "CLS_train_df = train_df[train_df.labels != 2]\n",
    "CLS_valid_df = valid_df[valid_df.labels != 2]\n",
    "CLS_train_df.head()"
   ]
  },
  {
   "cell_type": "markdown",
   "metadata": {
    "heading_collapsed": true
   },
   "source": [
    "### Tokenizer"
   ]
  },
  {
   "cell_type": "code",
   "execution_count": 17,
   "metadata": {
    "hidden": true
   },
   "outputs": [
    {
     "data": {
      "text/plain": [
       "Tokenizer SpacyTokenizer in en with the following rules:\n",
       " - fixup\n",
       " - replace_rep\n",
       " - replace_wrep\n",
       " - deal_caps\n",
       " - spec_add_spaces\n",
       " - rm_useless_spaces\n",
       " - sub_br\n",
       " - replace_all_caps\n",
       " - deal_caps"
      ]
     },
     "execution_count": 17,
     "metadata": {},
     "output_type": "execute_result"
    }
   ],
   "source": [
    "def sub_br(t:str) -> str:\n",
    "    \"Replaces the <br /> by \\n\"\n",
    "    re_br = re.compile(r'<\\s*br\\s*/?>', re.IGNORECASE)\n",
    "    return re_br.sub(\"\\n\", t)\n",
    "\n",
    "def spec_add_spaces(t:str) -> str:\n",
    "    \"Add spaces between special characters\"\n",
    "    return re.sub(r'([/#])', r' \\1 ', t)\n",
    "\n",
    "def rm_useless_spaces(t:str) -> str:\n",
    "    \"Remove multiple spaces\"\n",
    "    return re.sub(' {2,}', ' ', t)\n",
    "\n",
    "def replace_rep(t:str) -> str:\n",
    "    \"Replace repetitions at the character level\"\n",
    "    def _replace_rep(m:Collection[str]) -> str:\n",
    "        c,cc = m.groups()\n",
    "        return f' {TK_REP} {len(cc)+1} {c} '\n",
    "    re_rep = re.compile(r'(\\S)(\\1{3,})')\n",
    "    return re_rep.sub(_replace_rep, t)\n",
    "    \n",
    "def replace_wrep(t:str) -> str:\n",
    "    \"Replace word repetitions\"\n",
    "    def _replace_wrep(m:Collection[str]) -> str:\n",
    "        c,cc = m.groups()\n",
    "        return f' {TK_WREP} {len(cc.split())+1} {c} '\n",
    "    re_wrep = re.compile(r'(\\b\\w+\\W+)(\\1{3,})')\n",
    "    return re_wrep.sub(_replace_wrep, t)\n",
    "\n",
    "def deal_caps(t:str) -> str:\n",
    "    \"Replace words in all caps\"\n",
    "    res = []\n",
    "    for s in re.findall(r'\\w+|\\W+', t):\n",
    "        res += ([f' {TK_UP} ',s.lower()] if (s.isupper() and (len(s)>2)) else [s.lower()])\n",
    "    return ''.join(res)\n",
    "\n",
    "def fixup(x:str) -> str:\n",
    "    \"List of replacements from html strings\"\n",
    "    re1 = re.compile(r'  +')\n",
    "    x = x.replace('#39;', \"'\").replace('amp;', '&').replace('#146;', \"'\").replace(\n",
    "        'nbsp;', ' ').replace('#36;', '$').replace('\\\\n', \"\\n\").replace('quot;', \"'\").replace(\n",
    "        '<br />', \"\\n\").replace('\\\\\"', '\"').replace('<unk>',UNK).replace(' @.@ ','.').replace(\n",
    "        ' @-@ ','-').replace('\\\\', ' \\\\ ')\n",
    "    return re1.sub(' ', html.unescape(x))\n",
    "\n",
    "default_rules = [fixup, replace_rep, replace_wrep, deal_caps, spec_add_spaces, rm_useless_spaces, sub_br]\n",
    "default_spec_tok = [BOS, FLD, UNK, PAD]\n",
    "\n",
    "\n",
    "tokenizer = Tokenizer(pre_rules=default_rules, special_cases=[BOS, FLD, 'xxunk', 'xxpad'], n_cpus=4)\n",
    "tokenizer"
   ]
  },
  {
   "cell_type": "markdown",
   "metadata": {},
   "source": [
    "### Build LM DataBunch"
   ]
  },
  {
   "cell_type": "code",
   "execution_count": 18,
   "metadata": {},
   "outputs": [],
   "source": [
    "max_vocab = 60000 #can we make this the full possible vocab at 260k?\n",
    "\n",
    "keyword_args = {'max_vocab':max_vocab}\n",
    "imdb_data_lm = TextLMDataBunch.from_df(LM_PATH, LM_train_df, LM_valid_df, tokenizer=tokenizer,\n",
    "                               text_cols='text', label_cols='labels',**keyword_args)"
   ]
  },
  {
   "cell_type": "code",
   "execution_count": 27,
   "metadata": {},
   "outputs": [],
   "source": [
    "imdb_data_lm.save('lm_data')"
   ]
  },
  {
   "cell_type": "markdown",
   "metadata": {},
   "source": [
    "### finetune LM"
   ]
  },
  {
   "cell_type": "code",
   "execution_count": 22,
   "metadata": {},
   "outputs": [],
   "source": [
    "bptt = 140\n",
    "emb_sz,nh,nl = 400,1111,4"
   ]
  },
  {
   "cell_type": "code",
   "execution_count": 20,
   "metadata": {},
   "outputs": [],
   "source": [
    "learn = language_model_learner(imdb_data_lm,bptt,emb_sz,nh,nl,drop_mult=0.5,qrnn=True, \n",
    "                               pretrained_fnames=['wiki103_raw_articles_spacy_20190123',\n",
    "                                                  'itos_raw_spacy'])\n",
    "learn.freeze()"
   ]
  },
  {
   "cell_type": "code",
   "execution_count": 21,
   "metadata": {},
   "outputs": [
    {
     "name": "stdout",
     "output_type": "stream",
     "text": [
      "LR Finder is complete, type {learner_name}.recorder.plot() to see the graph.\n"
     ]
    },
    {
     "data": {
      "image/png": "[encoded data removed]",
      "text/plain": [
       "<Figure size 432x288 with 1 Axes>"
      ]
     },
     "metadata": {
      "needs_background": "light"
     },
     "output_type": "display_data"
    }
   ],
   "source": [
    "lr_find(learn)\n",
    "learn.recorder.plot()"
   ]
  },
  {
   "cell_type": "code",
   "execution_count": 22,
   "metadata": {},
   "outputs": [
    {
     "data": {
      "text/html": [
       "Total time: 23:10 <p><table style='width:300px; margin-bottom:10px'>\n",
       "  <tr>\n",
       "    <th>epoch</th>\n",
       "    <th>train_loss</th>\n",
       "    <th>valid_loss</th>\n",
       "    <th>accuracy</th>\n",
       "  </tr>\n",
       "  <tr>\n",
       "    <th>1</th>\n",
       "    <th>4.728926</th>\n",
       "    <th>4.528940</th>\n",
       "    <th>0.238302</th>\n",
       "  </tr>\n",
       "</table>\n"
      ],
      "text/plain": [
       "<IPython.core.display.HTML object>"
      ]
     },
     "metadata": {},
     "output_type": "display_data"
    }
   ],
   "source": [
    "learn.fit_one_cycle(1, 1e-2, moms=(0.8,0.7), wd=0.03, pct_start=0.25)"
   ]
  },
  {
   "cell_type": "code",
   "execution_count": 23,
   "metadata": {},
   "outputs": [],
   "source": [
    "learn.save('fit_head')"
   ]
  },
  {
   "cell_type": "code",
   "execution_count": 24,
   "metadata": {},
   "outputs": [
    {
     "data": {
      "text/html": [
       "Total time: 4:21:07 <p><table style='width:300px; margin-bottom:10px'>\n",
       "  <tr>\n",
       "    <th>epoch</th>\n",
       "    <th>train_loss</th>\n",
       "    <th>valid_loss</th>\n",
       "    <th>accuracy</th>\n",
       "  </tr>\n",
       "  <tr>\n",
       "    <th>1</th>\n",
       "    <th>4.441493</th>\n",
       "    <th>4.341877</th>\n",
       "    <th>0.259487</th>\n",
       "  </tr>\n",
       "  <tr>\n",
       "    <th>2</th>\n",
       "    <th>4.378788</th>\n",
       "    <th>4.235241</th>\n",
       "    <th>0.272149</th>\n",
       "  </tr>\n",
       "  <tr>\n",
       "    <th>3</th>\n",
       "    <th>4.294359</th>\n",
       "    <th>4.172385</th>\n",
       "    <th>0.278960</th>\n",
       "  </tr>\n",
       "  <tr>\n",
       "    <th>4</th>\n",
       "    <th>4.236470</th>\n",
       "    <th>4.131263</th>\n",
       "    <th>0.283525</th>\n",
       "  </tr>\n",
       "  <tr>\n",
       "    <th>5</th>\n",
       "    <th>4.217330</th>\n",
       "    <th>4.100667</th>\n",
       "    <th>0.286663</th>\n",
       "  </tr>\n",
       "  <tr>\n",
       "    <th>6</th>\n",
       "    <th>4.175113</th>\n",
       "    <th>4.074669</th>\n",
       "    <th>0.289359</th>\n",
       "  </tr>\n",
       "  <tr>\n",
       "    <th>7</th>\n",
       "    <th>4.148558</th>\n",
       "    <th>4.057446</th>\n",
       "    <th>0.291549</th>\n",
       "  </tr>\n",
       "  <tr>\n",
       "    <th>8</th>\n",
       "    <th>4.114428</th>\n",
       "    <th>4.042504</th>\n",
       "    <th>0.293027</th>\n",
       "  </tr>\n",
       "  <tr>\n",
       "    <th>9</th>\n",
       "    <th>4.082931</th>\n",
       "    <th>4.036189</th>\n",
       "    <th>0.293850</th>\n",
       "  </tr>\n",
       "  <tr>\n",
       "    <th>10</th>\n",
       "    <th>4.062114</th>\n",
       "    <th>4.035288</th>\n",
       "    <th>0.293985</th>\n",
       "  </tr>\n",
       "</table>\n"
      ],
      "text/plain": [
       "<IPython.core.display.HTML object>"
      ]
     },
     "metadata": {},
     "output_type": "display_data"
    }
   ],
   "source": [
    "learn.unfreeze()\n",
    "learn.fit_one_cycle(10, 1e-3, moms=(0.9,0.75), wd=0.01, pct_start=0.25)"
   ]
  },
  {
   "cell_type": "code",
   "execution_count": 30,
   "metadata": {},
   "outputs": [
    {
     "data": {
      "image/png": "[encoded data removed]",
      "text/plain": [
       "<Figure size 432x288 with 1 Axes>"
      ]
     },
     "metadata": {
      "needs_background": "light"
     },
     "output_type": "display_data"
    },
    {
     "data": {
      "image/png": "[encoded data removed]",
      "text/plain": [
       "<Figure size 864x288 with 2 Axes>"
      ]
     },
     "metadata": {
      "needs_background": "light"
     },
     "output_type": "display_data"
    }
   ],
   "source": [
    "learn.recorder.plot_losses()\n",
    "learn.recorder.plot_lr(show_moms=True)"
   ]
  },
  {
   "cell_type": "code",
   "execution_count": 25,
   "metadata": {},
   "outputs": [],
   "source": [
    "learn.save('fine_tuned60kb')\n",
    "learn.save_encoder('fine_tuned_enc60kb')"
   ]
  },
  {
   "cell_type": "code",
   "execution_count": null,
   "metadata": {},
   "outputs": [],
   "source": [
    "learn.load('fine_tuned60kb')"
   ]
  },
  {
   "cell_type": "markdown",
   "metadata": {},
   "source": [
    "### Build/train classifier"
   ]
  },
  {
   "cell_type": "code",
   "execution_count": 19,
   "metadata": {},
   "outputs": [
    {
     "data": {
      "text/html": [
       "<div>\n",
       "<style scoped>\n",
       "    .dataframe tbody tr th:only-of-type {\n",
       "        vertical-align: middle;\n",
       "    }\n",
       "\n",
       "    .dataframe tbody tr th {\n",
       "        vertical-align: top;\n",
       "    }\n",
       "\n",
       "    .dataframe thead th {\n",
       "        text-align: right;\n",
       "    }\n",
       "</style>\n",
       "<table border=\"1\" class=\"dataframe\">\n",
       "  <thead>\n",
       "    <tr style=\"text-align: right;\">\n",
       "      <th></th>\n",
       "      <th>labels</th>\n",
       "      <th>text</th>\n",
       "      <th>rating</th>\n",
       "    </tr>\n",
       "  </thead>\n",
       "  <tbody>\n",
       "    <tr>\n",
       "      <th>0</th>\n",
       "      <td>0</td>\n",
       "      <td>Another trashy Grade Z quickie from the prolif...</td>\n",
       "      <td>1</td>\n",
       "    </tr>\n",
       "    <tr>\n",
       "      <th>1</th>\n",
       "      <td>0</td>\n",
       "      <td>This show stinks. For parents, they usually wa...</td>\n",
       "      <td>2</td>\n",
       "    </tr>\n",
       "    <tr>\n",
       "      <th>5</th>\n",
       "      <td>1</td>\n",
       "      <td>Just two comments....SEVEN years apart? Hardly...</td>\n",
       "      <td>7</td>\n",
       "    </tr>\n",
       "    <tr>\n",
       "      <th>8</th>\n",
       "      <td>0</td>\n",
       "      <td>SOME NOT-SO-SPOILY SPOILERS AHEAD&lt;br /&gt;&lt;br /&gt;W...</td>\n",
       "      <td>4</td>\n",
       "    </tr>\n",
       "    <tr>\n",
       "      <th>10</th>\n",
       "      <td>1</td>\n",
       "      <td>This is a very funny movie, easy to watch, tha...</td>\n",
       "      <td>7</td>\n",
       "    </tr>\n",
       "  </tbody>\n",
       "</table>\n",
       "</div>"
      ],
      "text/plain": [
       "    labels                                               text  rating\n",
       "0        0  Another trashy Grade Z quickie from the prolif...       1\n",
       "1        0  This show stinks. For parents, they usually wa...       2\n",
       "5        1  Just two comments....SEVEN years apart? Hardly...       7\n",
       "8        0  SOME NOT-SO-SPOILY SPOILERS AHEAD<br /><br />W...       4\n",
       "10       1  This is a very funny movie, easy to watch, tha...       7"
      ]
     },
     "execution_count": 19,
     "metadata": {},
     "output_type": "execute_result"
    }
   ],
   "source": [
    "CLS_train_df.head()"
   ]
  },
  {
   "cell_type": "code",
   "execution_count": 20,
   "metadata": {},
   "outputs": [],
   "source": [
    "imdb_data_clas = TextClasDataBunch.from_df(CLAS_PATH,CLS_train_df,CLS_valid_df, tokenizer=tokenizer,\n",
    "                                           vocab=imdb_data_lm.train_ds.vocab,label_cols='labels',text_cols='text')"
   ]
  },
  {
   "cell_type": "code",
   "execution_count": 172,
   "metadata": {},
   "outputs": [
    {
     "ename": "NameError",
     "evalue": "name 'learn' is not defined",
     "output_type": "error",
     "traceback": [
      "\u001b[0;31m---------------------------------------------------------------------------\u001b[0m",
      "\u001b[0;31mNameError\u001b[0m                                 Traceback (most recent call last)",
      "\u001b[0;32m<ipython-input-172-0ebba005caed>\u001b[0m in \u001b[0;36m<module>\u001b[0;34m\u001b[0m\n\u001b[0;32m----> 1\u001b[0;31m \u001b[0;32mdel\u001b[0m \u001b[0mlearn\u001b[0m\u001b[0;34m\u001b[0m\u001b[0;34m\u001b[0m\u001b[0m\n\u001b[0m\u001b[1;32m      2\u001b[0m \u001b[0mtorch\u001b[0m\u001b[0;34m.\u001b[0m\u001b[0mcuda\u001b[0m\u001b[0;34m.\u001b[0m\u001b[0mempty_cache\u001b[0m\u001b[0;34m(\u001b[0m\u001b[0;34m)\u001b[0m\u001b[0;34m\u001b[0m\u001b[0;34m\u001b[0m\u001b[0m\n",
      "\u001b[0;31mNameError\u001b[0m: name 'learn' is not defined"
     ]
    }
   ],
   "source": [
    "del learn\n",
    "torch.cuda.empty_cache()"
   ]
  },
  {
   "cell_type": "code",
   "execution_count": 23,
   "metadata": {},
   "outputs": [
    {
     "data": {
      "text/plain": [
       "RNNLearner(data=TextClasDataBunch;\n",
       "\n",
       "Train: LabelList\n",
       "y: CategoryList (25000 items)\n",
       "[Category 0, Category 0, Category 1, Category 0, Category 1]...\n",
       "Path: /home/farzin/rnn_python_code/wiki103_from_download/clas\n",
       "x: TextList (25000 items)\n",
       "[Text xxbos another trashy grade z quickie from the prolific albert pyun . tim xxunk 13 inch clint eastwood - like cop from outer space chases an ugly flying head ( ! ) to earth and gets involved in a gang war in south bronx ! mercifully short , but xxunk dull , with the cheesiest effects since attack of the 50 ft woman . they should have fired the continuity guy , too : note how xxunk sunglasses disappears and reappears in every second shot . laughably bad , but that´s why we watch these movies , xxunk it ? sequel ´ dollman vs. demonic toys ´ is reportedly even worse , if that´s possible . \n",
       "\n",
       " 0 ( of xxrep 4 * ) \n",
       "\n",
       ", Text xxbos this show stinks . for parents , they usually want their kids to watch something good for them . it is usually educational , funny , and bright . \n",
       "\n",
       " is it educational ? no . the doodlebops sing and that 's it . they usually sing about themselves , they do n't try teaching anything . \n",
       "\n",
       " is it funny ? no . the doodlebops instead say something which is not intended as a joke , and laugh at it . \n",
       "\n",
       " is it bright ? it 's so bright , it 's painful . as far as color , s everything is extremely bright , so that 's good . but xxup nothing is ever wrong in the world of the xxunk 's . therefore , they are always happy . a kid in trouble will become depressed because they have never been exposed to being sad . \n",
       "\n",
       " the show is also extremely cheesy . every syllable is said to the highest level of exaggeration and very corny . it 's overkill . \n",
       "\n",
       " for kids , it 's entertaining , but past the age of 2 you wo n't want your kids to see it . they 'll never know how to grow up ., Text xxbos just two comments xxrep 4 . xxup seven years apart ? hardly evidence of the film 's relentless pulling - power ! as has been mentioned , the low - budget telemovie status of 13 xxup gantry xxup row is a mitigating factor in its limited appeal . having said that however the thing is not without merit - either as entertainment or as a fright outing per se . \n",
       "\n",
       " true , the plot at its most basic is a re - working of xxup the xxup amityville xxup horror - only without much horror . more a case of intrigue ! gibney might have made a more worthwhile impression if she had played xxunk xxunk a couple of seemingly unconnected murders with the \" house \" as the main suspect . the script is better than average and the production overall of a high standard . it just fails to engage the viewer particularly at key moments . \n",
       "\n",
       " having picked the xxup dvd up for a mere $ xxunk last week at my regular video store , i can not begrudge the expenditure . $ xxunk would be an acceptable price for the film . just do n't expect fireworks !, Text xxbos xxup some xxup not - so- xxup xxunk xxup spoilers xxup ahead \n",
       "\n",
       " why do people , when they are disoriented or sick or scared at a club , cut through the middle of the crowded dance floor on their way to the bathroom ? \n",
       "\n",
       " who in their right mind would hide under a bed when someone breaks into their room ? \n",
       "\n",
       " how often do you knock on a stranger 's door and when they do n't xxup immediately answer , you open the door , walk in , shout a few hello 's and then start going through their stuff ? \n",
       "\n",
       " if you were being pursued by someone you just discovered was a murderer , what would you do ? quietly sneak off and hide under a wooden platform or among metal implements ? run , quietly of course , to a ratty old barn or other decrepit structure ? \n",
       "\n",
       " i could be talking about almost any thriller that 's come out in the last few years , but since this is the \" the return \" page , obviously i 'm talking about \" the return . \" i saw it free because i work at a movie theater and make a point of screening all the \" scary \" movies . i thought this one was tolerable ... aside from the well - worn clichés . sarah michelle gellar is really drab and looks kind of \" huh ? \" through most of the film . the details of the plot are slowly given out as the movie progresses and it 's almost enough to make it interesting except there was n't enough explanation as it moved on and so i was almost lost until the last 2 / 3 of it . \n",
       "\n",
       " if you 're a die - hard thriller fan , it 's worth seeing at least once . if there 's nothing better at the theater and you really want to watch a movie , eh , i guess it 's worth a matinée ticket . if you thought the trailer made it look like an interesting movie and you ca n't wait ... wait ., Text xxbos this is a very funny movie , easy to watch , that entertains you almost all the time . the work of the director is recognizable and the type of humor is his trademark . the movie is a typical police partners history like lethal weapon , but the jokes and comedy are of argentinian sort . the twist is that one of them is a psychologist played by peretti and has to go with detective diaz ( played by luque ) on his assignments while he also assist him ( diaz is troubled because his wife cheated on him ) . some of the dialogs are hilarious worldwide : understandable and laughable anywhere . is very good overall , it would deserved an 8 , but i rated 7 because it gets a little down at the end . on a personal remark i must add that is a \" bravo \" for argentinian filmmakers , considering the little good is coming lately .]...\n",
       "Path: /home/farzin/rnn_python_code/wiki103_from_download/clas;\n",
       "\n",
       "Valid: LabelList\n",
       "y: CategoryList (25000 items)\n",
       "[Category 0, Category 0, Category 1, Category 0, Category 1]...\n",
       "Path: /home/farzin/rnn_python_code/wiki103_from_download/clas\n",
       "x: TextList (25000 items)\n",
       "[Text xxbos i thought it will be a ok movie after seeing the commercials about it . it was funny at some parts and some very nasty . the only person i felt sorry for is horatio sans who got a hot wife who is cheating on him with other women . but he never got a chance to have a threesome with until the and that was good but they should have made more bigger thru out the film ., Text xxbos i enjoyed carax 's \" les amants du pont neuf \" and was therefore expecting this film to be of a similar standard . well , the first 10 minutes were ok , but then it disintegrates into a rather pretentious journey of a young man looking for the essence of life . a sad disappointment ., Text xxbos what 's the matter with you people ? john dahl ? from \" rounders \" and \" unforgettable \" ? xxup too quirky ? knocking emma thompson and alan rickman for having fun playing against type ? and somebody liked the gingerbread man ? \n",
       "\n",
       " i rented this not knowing anything about it and found it about as nifty a video find as you can get . never insulting , well thought out , funny , scary . i disagree with the naysayers , clearly . i thought the story itself was unremarkable but the great cast , which most likely means the director was paying attention , lifted it to super cool status . good sound design also ( much more appreciated in surround , but i 'm not bragging ) . and yes , i 'm a girl , so maybe it has a slight female slant ( the guys in the gang are pretty worthwhile ) . all in all , a 9 and a hearty xxup recommend ., Text xxbos johnnie ( bert wheeler ) is a would - be songwriter ; newton ( robert woolsey ) is a would - be inventor . both work at a cigar stand in the lobby of an office building . johnnie wants to sell a song to winfield lake , a song publisher who also owns the building . lake 's secretary , mary ( betty grable ) , is johnnie 's sweetheart . when lake turns up dead , circumstances conspire to make mary and newton think that johnnie is the killer . they conspire again to implicate mary , who goes to jail . but who really shot lake ? who is the black widow , the blackmailer who had threatened him ? the other characters in this wacky murder mystery are : lake 's suspicious wife , a self - satisfied private detective , a seemingly slow - witted janitor ( willie best ) , lake 's auditor , a songwriter who thinks lake is stealing from him and another who thinks everyone is stealing from him . it 's up to newton and his truth machine to reveal the real killer . \n",
       "\n",
       " the baby - voiced wheeler and the cigar - chomping woolsey strike me as an arbitrary pairing , but they made several movies together in the 30s and some of them were funny . \n",
       "\n",
       " not this one . george stevens , who went on to have a distinguished career , directed this dismal comedy with a tedious murder mystery plot . but two scenes are good , and both feature wheeler and betty grable singing the excellent \" music in my heart , \" written by dorothy fields and jimmy mchugh . the first time , they sing it walking up a staircase ( after which they dance back down ) . later , wheeler and woolsey are on stilts so that they can see and talk to mary , who is in a jail cell on a high floor . wheeler and grable sing to each other through the bars . \n",
       "\n",
       " \" the nitwits \" has a few laughs , but the level of comedy is best illustrated by woolsey 's line : \" sonny , you 've got the brain of a six - year - old boy . and i 'll bet even he was glad to get rid of it . \" it 's watered - down xxunk did n't use the superfluous \" even \" when he said it ., Text xxbos this film has the guts to suggest that it might be best to simply accept your life as it is , and keep smiling anyway . as one who is more excited by the idea of taking charge of one 's life and moving forward , i felt slapped in the face , but that 's okay : i do n't have to agree with a movie to love it and respect it . great acting by streep and hurt , and everyone else really , and some wonderfully quirky scenes . a serious film . and take a hanky .]...\n",
       "Path: /home/farzin/rnn_python_code/wiki103_from_download/clas;\n",
       "\n",
       "Test: None, model=SequentialRNN(\n",
       "  (0): MultiBatchRNNCore(\n",
       "    (encoder): Embedding(60004, 400, padding_idx=1)\n",
       "    (encoder_dp): EmbeddingDropout(\n",
       "      (emb): Embedding(60004, 400, padding_idx=1)\n",
       "    )\n",
       "    (rnns): ModuleList(\n",
       "      (0): QRNNLayer(\n",
       "        (linear): WeightDropout(\n",
       "          (module): Linear(in_features=800, out_features=3333, bias=True)\n",
       "        )\n",
       "      )\n",
       "      (1): QRNNLayer(\n",
       "        (linear): WeightDropout(\n",
       "          (module): Linear(in_features=1111, out_features=3333, bias=True)\n",
       "        )\n",
       "      )\n",
       "      (2): QRNNLayer(\n",
       "        (linear): WeightDropout(\n",
       "          (module): Linear(in_features=1111, out_features=3333, bias=True)\n",
       "        )\n",
       "      )\n",
       "      (3): QRNNLayer(\n",
       "        (linear): WeightDropout(\n",
       "          (module): Linear(in_features=1111, out_features=1200, bias=True)\n",
       "        )\n",
       "      )\n",
       "    )\n",
       "    (input_dp): RNNDropout()\n",
       "    (hidden_dps): ModuleList(\n",
       "      (0): RNNDropout()\n",
       "      (1): RNNDropout()\n",
       "      (2): RNNDropout()\n",
       "      (3): RNNDropout()\n",
       "    )\n",
       "  )\n",
       "  (1): PoolingLinearClassifier(\n",
       "    (layers): Sequential(\n",
       "      (0): BatchNorm1d(1200, eps=1e-05, momentum=0.1, affine=True, track_running_stats=True)\n",
       "      (1): Dropout(p=0.2)\n",
       "      (2): Linear(in_features=1200, out_features=50, bias=True)\n",
       "      (3): ReLU(inplace)\n",
       "      (4): BatchNorm1d(50, eps=1e-05, momentum=0.1, affine=True, track_running_stats=True)\n",
       "      (5): Dropout(p=0.1)\n",
       "      (6): Linear(in_features=50, out_features=2, bias=True)\n",
       "    )\n",
       "  )\n",
       "), opt_func=functools.partial(<class 'torch.optim.adam.Adam'>, betas=(0.9, 0.99)), loss_func=<fastai.layers.FlattenedLoss object at 0x7f0ea3f00470>, metrics=[<function accuracy at 0x7f0e1d96f620>], true_wd=True, bn_wd=True, wd=0.01, train_bn=True, path=PosixPath('/home/farzin/rnn_python_code/wiki103_from_download/clas'), model_dir='models', callback_fns=[<class 'fastai.basic_train.Recorder'>], callbacks=[RNNTrainer\n",
       "learn: RNNLearner(data=TextClasDataBunch;\n",
       "\n",
       "Train: LabelList\n",
       "y: CategoryList (25000 items)\n",
       "[Category 0, Category 0, Category 1, Category 0, Category 1]...\n",
       "Path: /home/farzin/rnn_python_code/wiki103_from_download/clas\n",
       "x: TextList (25000 items)\n",
       "[Text xxbos another trashy grade z quickie from the prolific albert pyun . tim xxunk 13 inch clint eastwood - like cop from outer space chases an ugly flying head ( ! ) to earth and gets involved in a gang war in south bronx ! mercifully short , but xxunk dull , with the cheesiest effects since attack of the 50 ft woman . they should have fired the continuity guy , too : note how xxunk sunglasses disappears and reappears in every second shot . laughably bad , but that´s why we watch these movies , xxunk it ? sequel ´ dollman vs. demonic toys ´ is reportedly even worse , if that´s possible . \n",
       "\n",
       " 0 ( of xxrep 4 * ) \n",
       "\n",
       ", Text xxbos this show stinks . for parents , they usually want their kids to watch something good for them . it is usually educational , funny , and bright . \n",
       "\n",
       " is it educational ? no . the doodlebops sing and that 's it . they usually sing about themselves , they do n't try teaching anything . \n",
       "\n",
       " is it funny ? no . the doodlebops instead say something which is not intended as a joke , and laugh at it . \n",
       "\n",
       " is it bright ? it 's so bright , it 's painful . as far as color , s everything is extremely bright , so that 's good . but xxup nothing is ever wrong in the world of the xxunk 's . therefore , they are always happy . a kid in trouble will become depressed because they have never been exposed to being sad . \n",
       "\n",
       " the show is also extremely cheesy . every syllable is said to the highest level of exaggeration and very corny . it 's overkill . \n",
       "\n",
       " for kids , it 's entertaining , but past the age of 2 you wo n't want your kids to see it . they 'll never know how to grow up ., Text xxbos just two comments xxrep 4 . xxup seven years apart ? hardly evidence of the film 's relentless pulling - power ! as has been mentioned , the low - budget telemovie status of 13 xxup gantry xxup row is a mitigating factor in its limited appeal . having said that however the thing is not without merit - either as entertainment or as a fright outing per se . \n",
       "\n",
       " true , the plot at its most basic is a re - working of xxup the xxup amityville xxup horror - only without much horror . more a case of intrigue ! gibney might have made a more worthwhile impression if she had played xxunk xxunk a couple of seemingly unconnected murders with the \" house \" as the main suspect . the script is better than average and the production overall of a high standard . it just fails to engage the viewer particularly at key moments . \n",
       "\n",
       " having picked the xxup dvd up for a mere $ xxunk last week at my regular video store , i can not begrudge the expenditure . $ xxunk would be an acceptable price for the film . just do n't expect fireworks !, Text xxbos xxup some xxup not - so- xxup xxunk xxup spoilers xxup ahead \n",
       "\n",
       " why do people , when they are disoriented or sick or scared at a club , cut through the middle of the crowded dance floor on their way to the bathroom ? \n",
       "\n",
       " who in their right mind would hide under a bed when someone breaks into their room ? \n",
       "\n",
       " how often do you knock on a stranger 's door and when they do n't xxup immediately answer , you open the door , walk in , shout a few hello 's and then start going through their stuff ? \n",
       "\n",
       " if you were being pursued by someone you just discovered was a murderer , what would you do ? quietly sneak off and hide under a wooden platform or among metal implements ? run , quietly of course , to a ratty old barn or other decrepit structure ? \n",
       "\n",
       " i could be talking about almost any thriller that 's come out in the last few years , but since this is the \" the return \" page , obviously i 'm talking about \" the return . \" i saw it free because i work at a movie theater and make a point of screening all the \" scary \" movies . i thought this one was tolerable ... aside from the well - worn clichés . sarah michelle gellar is really drab and looks kind of \" huh ? \" through most of the film . the details of the plot are slowly given out as the movie progresses and it 's almost enough to make it interesting except there was n't enough explanation as it moved on and so i was almost lost until the last 2 / 3 of it . \n",
       "\n",
       " if you 're a die - hard thriller fan , it 's worth seeing at least once . if there 's nothing better at the theater and you really want to watch a movie , eh , i guess it 's worth a matinée ticket . if you thought the trailer made it look like an interesting movie and you ca n't wait ... wait ., Text xxbos this is a very funny movie , easy to watch , that entertains you almost all the time . the work of the director is recognizable and the type of humor is his trademark . the movie is a typical police partners history like lethal weapon , but the jokes and comedy are of argentinian sort . the twist is that one of them is a psychologist played by peretti and has to go with detective diaz ( played by luque ) on his assignments while he also assist him ( diaz is troubled because his wife cheated on him ) . some of the dialogs are hilarious worldwide : understandable and laughable anywhere . is very good overall , it would deserved an 8 , but i rated 7 because it gets a little down at the end . on a personal remark i must add that is a \" bravo \" for argentinian filmmakers , considering the little good is coming lately .]...\n",
       "Path: /home/farzin/rnn_python_code/wiki103_from_download/clas;\n",
       "\n",
       "Valid: LabelList\n",
       "y: CategoryList (25000 items)\n",
       "[Category 0, Category 0, Category 1, Category 0, Category 1]...\n",
       "Path: /home/farzin/rnn_python_code/wiki103_from_download/clas\n",
       "x: TextList (25000 items)\n",
       "[Text xxbos i thought it will be a ok movie after seeing the commercials about it . it was funny at some parts and some very nasty . the only person i felt sorry for is horatio sans who got a hot wife who is cheating on him with other women . but he never got a chance to have a threesome with until the and that was good but they should have made more bigger thru out the film ., Text xxbos i enjoyed carax 's \" les amants du pont neuf \" and was therefore expecting this film to be of a similar standard . well , the first 10 minutes were ok , but then it disintegrates into a rather pretentious journey of a young man looking for the essence of life . a sad disappointment ., Text xxbos what 's the matter with you people ? john dahl ? from \" rounders \" and \" unforgettable \" ? xxup too quirky ? knocking emma thompson and alan rickman for having fun playing against type ? and somebody liked the gingerbread man ? \n",
       "\n",
       " i rented this not knowing anything about it and found it about as nifty a video find as you can get . never insulting , well thought out , funny , scary . i disagree with the naysayers , clearly . i thought the story itself was unremarkable but the great cast , which most likely means the director was paying attention , lifted it to super cool status . good sound design also ( much more appreciated in surround , but i 'm not bragging ) . and yes , i 'm a girl , so maybe it has a slight female slant ( the guys in the gang are pretty worthwhile ) . all in all , a 9 and a hearty xxup recommend ., Text xxbos johnnie ( bert wheeler ) is a would - be songwriter ; newton ( robert woolsey ) is a would - be inventor . both work at a cigar stand in the lobby of an office building . johnnie wants to sell a song to winfield lake , a song publisher who also owns the building . lake 's secretary , mary ( betty grable ) , is johnnie 's sweetheart . when lake turns up dead , circumstances conspire to make mary and newton think that johnnie is the killer . they conspire again to implicate mary , who goes to jail . but who really shot lake ? who is the black widow , the blackmailer who had threatened him ? the other characters in this wacky murder mystery are : lake 's suspicious wife , a self - satisfied private detective , a seemingly slow - witted janitor ( willie best ) , lake 's auditor , a songwriter who thinks lake is stealing from him and another who thinks everyone is stealing from him . it 's up to newton and his truth machine to reveal the real killer . \n",
       "\n",
       " the baby - voiced wheeler and the cigar - chomping woolsey strike me as an arbitrary pairing , but they made several movies together in the 30s and some of them were funny . \n",
       "\n",
       " not this one . george stevens , who went on to have a distinguished career , directed this dismal comedy with a tedious murder mystery plot . but two scenes are good , and both feature wheeler and betty grable singing the excellent \" music in my heart , \" written by dorothy fields and jimmy mchugh . the first time , they sing it walking up a staircase ( after which they dance back down ) . later , wheeler and woolsey are on stilts so that they can see and talk to mary , who is in a jail cell on a high floor . wheeler and grable sing to each other through the bars . \n",
       "\n",
       " \" the nitwits \" has a few laughs , but the level of comedy is best illustrated by woolsey 's line : \" sonny , you 've got the brain of a six - year - old boy . and i 'll bet even he was glad to get rid of it . \" it 's watered - down xxunk did n't use the superfluous \" even \" when he said it ., Text xxbos this film has the guts to suggest that it might be best to simply accept your life as it is , and keep smiling anyway . as one who is more excited by the idea of taking charge of one 's life and moving forward , i felt slapped in the face , but that 's okay : i do n't have to agree with a movie to love it and respect it . great acting by streep and hurt , and everyone else really , and some wonderfully quirky scenes . a serious film . and take a hanky .]...\n",
       "Path: /home/farzin/rnn_python_code/wiki103_from_download/clas;\n",
       "\n",
       "Test: None, model=SequentialRNN(\n",
       "  (0): MultiBatchRNNCore(\n",
       "    (encoder): Embedding(60004, 400, padding_idx=1)\n",
       "    (encoder_dp): EmbeddingDropout(\n",
       "      (emb): Embedding(60004, 400, padding_idx=1)\n",
       "    )\n",
       "    (rnns): ModuleList(\n",
       "      (0): QRNNLayer(\n",
       "        (linear): WeightDropout(\n",
       "          (module): Linear(in_features=800, out_features=3333, bias=True)\n",
       "        )\n",
       "      )\n",
       "      (1): QRNNLayer(\n",
       "        (linear): WeightDropout(\n",
       "          (module): Linear(in_features=1111, out_features=3333, bias=True)\n",
       "        )\n",
       "      )\n",
       "      (2): QRNNLayer(\n",
       "        (linear): WeightDropout(\n",
       "          (module): Linear(in_features=1111, out_features=3333, bias=True)\n",
       "        )\n",
       "      )\n",
       "      (3): QRNNLayer(\n",
       "        (linear): WeightDropout(\n",
       "          (module): Linear(in_features=1111, out_features=1200, bias=True)\n",
       "        )\n",
       "      )\n",
       "    )\n",
       "    (input_dp): RNNDropout()\n",
       "    (hidden_dps): ModuleList(\n",
       "      (0): RNNDropout()\n",
       "      (1): RNNDropout()\n",
       "      (2): RNNDropout()\n",
       "      (3): RNNDropout()\n",
       "    )\n",
       "  )\n",
       "  (1): PoolingLinearClassifier(\n",
       "    (layers): Sequential(\n",
       "      (0): BatchNorm1d(1200, eps=1e-05, momentum=0.1, affine=True, track_running_stats=True)\n",
       "      (1): Dropout(p=0.2)\n",
       "      (2): Linear(in_features=1200, out_features=50, bias=True)\n",
       "      (3): ReLU(inplace)\n",
       "      (4): BatchNorm1d(50, eps=1e-05, momentum=0.1, affine=True, track_running_stats=True)\n",
       "      (5): Dropout(p=0.1)\n",
       "      (6): Linear(in_features=50, out_features=2, bias=True)\n",
       "    )\n",
       "  )\n",
       "), opt_func=functools.partial(<class 'torch.optim.adam.Adam'>, betas=(0.9, 0.99)), loss_func=<fastai.layers.FlattenedLoss object at 0x7f0ea3f00470>, metrics=[<function accuracy at 0x7f0e1d96f620>], true_wd=True, bn_wd=True, wd=0.01, train_bn=True, path=PosixPath('/home/farzin/rnn_python_code/wiki103_from_download/clas'), model_dir='models', callback_fns=[<class 'fastai.basic_train.Recorder'>], callbacks=[...], layer_groups=[Sequential(\n",
       "  (0): Embedding(60004, 400, padding_idx=1)\n",
       "  (1): EmbeddingDropout(\n",
       "    (emb): Embedding(60004, 400, padding_idx=1)\n",
       "  )\n",
       "), Sequential(\n",
       "  (0): QRNNLayer(\n",
       "    (linear): WeightDropout(\n",
       "      (module): Linear(in_features=800, out_features=3333, bias=True)\n",
       "    )\n",
       "  )\n",
       "  (1): RNNDropout()\n",
       "), Sequential(\n",
       "  (0): QRNNLayer(\n",
       "    (linear): WeightDropout(\n",
       "      (module): Linear(in_features=1111, out_features=3333, bias=True)\n",
       "    )\n",
       "  )\n",
       "  (1): RNNDropout()\n",
       "), Sequential(\n",
       "  (0): QRNNLayer(\n",
       "    (linear): WeightDropout(\n",
       "      (module): Linear(in_features=1111, out_features=3333, bias=True)\n",
       "    )\n",
       "  )\n",
       "  (1): RNNDropout()\n",
       "), Sequential(\n",
       "  (0): QRNNLayer(\n",
       "    (linear): WeightDropout(\n",
       "      (module): Linear(in_features=1111, out_features=1200, bias=True)\n",
       "    )\n",
       "  )\n",
       "  (1): RNNDropout()\n",
       "), Sequential(\n",
       "  (0): PoolingLinearClassifier(\n",
       "    (layers): Sequential(\n",
       "      (0): BatchNorm1d(1200, eps=1e-05, momentum=0.1, affine=True, track_running_stats=True)\n",
       "      (1): Dropout(p=0.2)\n",
       "      (2): Linear(in_features=1200, out_features=50, bias=True)\n",
       "      (3): ReLU(inplace)\n",
       "      (4): BatchNorm1d(50, eps=1e-05, momentum=0.1, affine=True, track_running_stats=True)\n",
       "      (5): Dropout(p=0.1)\n",
       "      (6): Linear(in_features=50, out_features=2, bias=True)\n",
       "    )\n",
       "  )\n",
       ")])\n",
       "bptt: 140\n",
       "alpha: 2.0\n",
       "beta: 1.0\n",
       "adjust: False], layer_groups=[Sequential(\n",
       "  (0): Embedding(60004, 400, padding_idx=1)\n",
       "  (1): EmbeddingDropout(\n",
       "    (emb): Embedding(60004, 400, padding_idx=1)\n",
       "  )\n",
       "), Sequential(\n",
       "  (0): QRNNLayer(\n",
       "    (linear): WeightDropout(\n",
       "      (module): Linear(in_features=800, out_features=3333, bias=True)\n",
       "    )\n",
       "  )\n",
       "  (1): RNNDropout()\n",
       "), Sequential(\n",
       "  (0): QRNNLayer(\n",
       "    (linear): WeightDropout(\n",
       "      (module): Linear(in_features=1111, out_features=3333, bias=True)\n",
       "    )\n",
       "  )\n",
       "  (1): RNNDropout()\n",
       "), Sequential(\n",
       "  (0): QRNNLayer(\n",
       "    (linear): WeightDropout(\n",
       "      (module): Linear(in_features=1111, out_features=3333, bias=True)\n",
       "    )\n",
       "  )\n",
       "  (1): RNNDropout()\n",
       "), Sequential(\n",
       "  (0): QRNNLayer(\n",
       "    (linear): WeightDropout(\n",
       "      (module): Linear(in_features=1111, out_features=1200, bias=True)\n",
       "    )\n",
       "  )\n",
       "  (1): RNNDropout()\n",
       "), Sequential(\n",
       "  (0): PoolingLinearClassifier(\n",
       "    (layers): Sequential(\n",
       "      (0): BatchNorm1d(1200, eps=1e-05, momentum=0.1, affine=True, track_running_stats=True)\n",
       "      (1): Dropout(p=0.2)\n",
       "      (2): Linear(in_features=1200, out_features=50, bias=True)\n",
       "      (3): ReLU(inplace)\n",
       "      (4): BatchNorm1d(50, eps=1e-05, momentum=0.1, affine=True, track_running_stats=True)\n",
       "      (5): Dropout(p=0.1)\n",
       "      (6): Linear(in_features=50, out_features=2, bias=True)\n",
       "    )\n",
       "  )\n",
       ")])"
      ]
     },
     "execution_count": 23,
     "metadata": {},
     "output_type": "execute_result"
    }
   ],
   "source": [
    "imdb_data_clas.batch_size = 16\n",
    "learn_cls = text_classifier_learner(imdb_data_clas,bptt,emb_sz,nh,nl,drop_mult=0.5,qrnn=True)\n",
    "learn_cls.load_encoder('fine_tuned_enc60kb')\n",
    "learn_cls.freeze()\n",
    "learn_cls"
   ]
  },
  {
   "cell_type": "code",
   "execution_count": 33,
   "metadata": {},
   "outputs": [
    {
     "name": "stdout",
     "output_type": "stream",
     "text": [
      "LR Finder is complete, type {learner_name}.recorder.plot() to see the graph.\n"
     ]
    },
    {
     "data": {
      "image/png": "[encoded data removed]",
      "text/plain": [
       "<Figure size 432x288 with 1 Axes>"
      ]
     },
     "metadata": {
      "needs_background": "light"
     },
     "output_type": "display_data"
    }
   ],
   "source": [
    "lr_find(learn_cls)\n",
    "learn_cls.recorder.plot(skip_end=10)"
   ]
  },
  {
   "cell_type": "code",
   "execution_count": 34,
   "metadata": {},
   "outputs": [
    {
     "data": {
      "text/html": [
       "Total time: 02:09 <p><table style='width:300px; margin-bottom:10px'>\n",
       "  <tr>\n",
       "    <th>epoch</th>\n",
       "    <th>train_loss</th>\n",
       "    <th>valid_loss</th>\n",
       "    <th>accuracy</th>\n",
       "  </tr>\n",
       "  <tr>\n",
       "    <th>1</th>\n",
       "    <th>0.355253</th>\n",
       "    <th>0.221081</th>\n",
       "    <th>0.913520</th>\n",
       "  </tr>\n",
       "</table>\n"
      ],
      "text/plain": [
       "<IPython.core.display.HTML object>"
      ]
     },
     "metadata": {},
     "output_type": "display_data"
    }
   ],
   "source": [
    "learn_cls.fit_one_cycle(1, 1e-2, moms=(0.8,0.7))"
   ]
  },
  {
   "cell_type": "code",
   "execution_count": 35,
   "metadata": {},
   "outputs": [
    {
     "data": {
      "text/html": [
       "Total time: 04:18 <p><table style='width:300px; margin-bottom:10px'>\n",
       "  <tr>\n",
       "    <th>epoch</th>\n",
       "    <th>train_loss</th>\n",
       "    <th>valid_loss</th>\n",
       "    <th>accuracy</th>\n",
       "  </tr>\n",
       "  <tr>\n",
       "    <th>1</th>\n",
       "    <th>0.339309</th>\n",
       "    <th>0.220069</th>\n",
       "    <th>0.910240</th>\n",
       "  </tr>\n",
       "  <tr>\n",
       "    <th>2</th>\n",
       "    <th>0.308791</th>\n",
       "    <th>0.211723</th>\n",
       "    <th>0.915640</th>\n",
       "  </tr>\n",
       "</table>\n"
      ],
      "text/plain": [
       "<IPython.core.display.HTML object>"
      ]
     },
     "metadata": {},
     "output_type": "display_data"
    }
   ],
   "source": [
    "learn_cls.fit_one_cycle(2, 1e-2, moms=(0.8,0.7))"
   ]
  },
  {
   "cell_type": "code",
   "execution_count": 41,
   "metadata": {},
   "outputs": [
    {
     "data": {
      "text/html": [
       "Total time: 04:26 <p><table style='width:300px; margin-bottom:10px'>\n",
       "  <tr>\n",
       "    <th>epoch</th>\n",
       "    <th>train_loss</th>\n",
       "    <th>valid_loss</th>\n",
       "    <th>accuracy</th>\n",
       "  </tr>\n",
       "  <tr>\n",
       "    <th>1</th>\n",
       "    <th>0.269922</th>\n",
       "    <th>0.197107</th>\n",
       "    <th>0.924960</th>\n",
       "  </tr>\n",
       "  <tr>\n",
       "    <th>2</th>\n",
       "    <th>0.245735</th>\n",
       "    <th>0.184559</th>\n",
       "    <th>0.929560</th>\n",
       "  </tr>\n",
       "</table>\n"
      ],
      "text/plain": [
       "<IPython.core.display.HTML object>"
      ]
     },
     "metadata": {},
     "output_type": "display_data"
    }
   ],
   "source": [
    "learn_cls.freeze_to(-2)\n",
    "learn_cls.fit_one_cycle(2, slice(1e-2/2.6,1e-2), moms=(0.8,0.7), pct_start=0.1)"
   ]
  },
  {
   "cell_type": "code",
   "execution_count": 42,
   "metadata": {},
   "outputs": [],
   "source": [
    "learn_cls.save('second')"
   ]
  },
  {
   "cell_type": "code",
   "execution_count": 45,
   "metadata": {},
   "outputs": [
    {
     "data": {
      "text/plain": [
       "(0.0014792899408284023, 0.03)"
      ]
     },
     "execution_count": 45,
     "metadata": {},
     "output_type": "execute_result"
    }
   ],
   "source": [
    "1e-2/(2.6**2) , 3e-2"
   ]
  },
  {
   "cell_type": "code",
   "execution_count": 46,
   "metadata": {},
   "outputs": [
    {
     "data": {
      "text/html": [
       "Total time: 07:51 <p><table style='width:300px; margin-bottom:10px'>\n",
       "  <tr>\n",
       "    <th>epoch</th>\n",
       "    <th>train_loss</th>\n",
       "    <th>valid_loss</th>\n",
       "    <th>accuracy</th>\n",
       "  </tr>\n",
       "  <tr>\n",
       "    <th>1</th>\n",
       "    <th>0.274636</th>\n",
       "    <th>0.191720</th>\n",
       "    <th>0.927720</th>\n",
       "  </tr>\n",
       "  <tr>\n",
       "    <th>2</th>\n",
       "    <th>0.229653</th>\n",
       "    <th>0.192563</th>\n",
       "    <th>0.933920</th>\n",
       "  </tr>\n",
       "  <tr>\n",
       "    <th>3</th>\n",
       "    <th>0.237210</th>\n",
       "    <th>0.167604</th>\n",
       "    <th>0.936840</th>\n",
       "  </tr>\n",
       "</table>\n"
      ],
      "text/plain": [
       "<IPython.core.display.HTML object>"
      ]
     },
     "metadata": {},
     "output_type": "display_data"
    }
   ],
   "source": [
    "learn_cls.freeze_to(-3)\n",
    "learn_cls.fit_one_cycle(3, slice(1e-2/(2.6**2),3e-2), moms=(0.9,0.7), pct_start=0.1)"
   ]
  },
  {
   "cell_type": "code",
   "execution_count": 47,
   "metadata": {},
   "outputs": [
    {
     "data": {
      "text/html": [
       "Total time: 07:56 <p><table style='width:300px; margin-bottom:10px'>\n",
       "  <tr>\n",
       "    <th>epoch</th>\n",
       "    <th>train_loss</th>\n",
       "    <th>valid_loss</th>\n",
       "    <th>accuracy</th>\n",
       "  </tr>\n",
       "  <tr>\n",
       "    <th>1</th>\n",
       "    <th>0.260026</th>\n",
       "    <th>0.194460</th>\n",
       "    <th>0.927800</th>\n",
       "  </tr>\n",
       "  <tr>\n",
       "    <th>2</th>\n",
       "    <th>0.235224</th>\n",
       "    <th>0.170660</th>\n",
       "    <th>0.936480</th>\n",
       "  </tr>\n",
       "  <tr>\n",
       "    <th>3</th>\n",
       "    <th>0.209851</th>\n",
       "    <th>0.176403</th>\n",
       "    <th>0.936480</th>\n",
       "  </tr>\n",
       "</table>\n"
      ],
      "text/plain": [
       "<IPython.core.display.HTML object>"
      ]
     },
     "metadata": {},
     "output_type": "display_data"
    }
   ],
   "source": [
    "learn_cls.fit_one_cycle(3, slice(1e-2/(2.6**2),3e-2), moms=(0.9,0.7), pct_start=0.1)"
   ]
  },
  {
   "cell_type": "code",
   "execution_count": 51,
   "metadata": {},
   "outputs": [],
   "source": [
    "learn_cls.save('third')"
   ]
  },
  {
   "cell_type": "code",
   "execution_count": 54,
   "metadata": {},
   "outputs": [
    {
     "data": {
      "text/plain": [
       "RNNLearner(data=TextClasDataBunch;\n",
       "\n",
       "Train: LabelList\n",
       "y: CategoryList (25000 items)\n",
       "[Category 0, Category 0, Category 1, Category 0, Category 1]...\n",
       "Path: /home/farzin/rnn_python_code/wiki103_from_download/clas\n",
       "x: TextList (25000 items)\n",
       "[Text xxbos another trashy grade z quickie from the prolific albert pyun . tim xxunk 13 inch clint eastwood - like cop from outer space chases an ugly flying head ( ! ) to earth and gets involved in a gang war in south bronx ! mercifully short , but xxunk dull , with the cheesiest effects since attack of the 50 ft woman . they should have fired the continuity guy , too : note how xxunk sunglasses disappears and reappears in every second shot . laughably bad , but that´s why we watch these movies , xxunk it ? sequel ´ dollman vs. demonic toys ´ is reportedly even worse , if that´s possible . \n",
       "\n",
       " 0 ( of xxrep 4 * ) \n",
       "\n",
       ", Text xxbos this show stinks . for parents , they usually want their kids to watch something good for them . it is usually educational , funny , and bright . \n",
       "\n",
       " is it educational ? no . the doodlebops sing and that 's it . they usually sing about themselves , they do n't try teaching anything . \n",
       "\n",
       " is it funny ? no . the doodlebops instead say something which is not intended as a joke , and laugh at it . \n",
       "\n",
       " is it bright ? it 's so bright , it 's painful . as far as color , s everything is extremely bright , so that 's good . but xxup nothing is ever wrong in the world of the xxunk 's . therefore , they are always happy . a kid in trouble will become depressed because they have never been exposed to being sad . \n",
       "\n",
       " the show is also extremely cheesy . every syllable is said to the highest level of exaggeration and very corny . it 's overkill . \n",
       "\n",
       " for kids , it 's entertaining , but past the age of 2 you wo n't want your kids to see it . they 'll never know how to grow up ., Text xxbos just two comments xxrep 4 . xxup seven years apart ? hardly evidence of the film 's relentless pulling - power ! as has been mentioned , the low - budget telemovie status of 13 xxup gantry xxup row is a mitigating factor in its limited appeal . having said that however the thing is not without merit - either as entertainment or as a fright outing per se . \n",
       "\n",
       " true , the plot at its most basic is a re - working of xxup the xxup amityville xxup horror - only without much horror . more a case of intrigue ! gibney might have made a more worthwhile impression if she had played xxunk xxunk a couple of seemingly unconnected murders with the \" house \" as the main suspect . the script is better than average and the production overall of a high standard . it just fails to engage the viewer particularly at key moments . \n",
       "\n",
       " having picked the xxup dvd up for a mere $ xxunk last week at my regular video store , i can not begrudge the expenditure . $ xxunk would be an acceptable price for the film . just do n't expect fireworks !, Text xxbos xxup some xxup not - so- xxup xxunk xxup spoilers xxup ahead \n",
       "\n",
       " why do people , when they are disoriented or sick or scared at a club , cut through the middle of the crowded dance floor on their way to the bathroom ? \n",
       "\n",
       " who in their right mind would hide under a bed when someone breaks into their room ? \n",
       "\n",
       " how often do you knock on a stranger 's door and when they do n't xxup immediately answer , you open the door , walk in , shout a few hello 's and then start going through their stuff ? \n",
       "\n",
       " if you were being pursued by someone you just discovered was a murderer , what would you do ? quietly sneak off and hide under a wooden platform or among metal implements ? run , quietly of course , to a ratty old barn or other decrepit structure ? \n",
       "\n",
       " i could be talking about almost any thriller that 's come out in the last few years , but since this is the \" the return \" page , obviously i 'm talking about \" the return . \" i saw it free because i work at a movie theater and make a point of screening all the \" scary \" movies . i thought this one was tolerable ... aside from the well - worn clichés . sarah michelle gellar is really drab and looks kind of \" huh ? \" through most of the film . the details of the plot are slowly given out as the movie progresses and it 's almost enough to make it interesting except there was n't enough explanation as it moved on and so i was almost lost until the last 2 / 3 of it . \n",
       "\n",
       " if you 're a die - hard thriller fan , it 's worth seeing at least once . if there 's nothing better at the theater and you really want to watch a movie , eh , i guess it 's worth a matinée ticket . if you thought the trailer made it look like an interesting movie and you ca n't wait ... wait ., Text xxbos this is a very funny movie , easy to watch , that entertains you almost all the time . the work of the director is recognizable and the type of humor is his trademark . the movie is a typical police partners history like lethal weapon , but the jokes and comedy are of argentinian sort . the twist is that one of them is a psychologist played by peretti and has to go with detective diaz ( played by luque ) on his assignments while he also assist him ( diaz is troubled because his wife cheated on him ) . some of the dialogs are hilarious worldwide : understandable and laughable anywhere . is very good overall , it would deserved an 8 , but i rated 7 because it gets a little down at the end . on a personal remark i must add that is a \" bravo \" for argentinian filmmakers , considering the little good is coming lately .]...\n",
       "Path: /home/farzin/rnn_python_code/wiki103_from_download/clas;\n",
       "\n",
       "Valid: LabelList\n",
       "y: CategoryList (25000 items)\n",
       "[Category 0, Category 0, Category 1, Category 0, Category 1]...\n",
       "Path: /home/farzin/rnn_python_code/wiki103_from_download/clas\n",
       "x: TextList (25000 items)\n",
       "[Text xxbos i thought it will be a ok movie after seeing the commercials about it . it was funny at some parts and some very nasty . the only person i felt sorry for is horatio sans who got a hot wife who is cheating on him with other women . but he never got a chance to have a threesome with until the and that was good but they should have made more bigger thru out the film ., Text xxbos i enjoyed carax 's \" les amants du pont neuf \" and was therefore expecting this film to be of a similar standard . well , the first 10 minutes were ok , but then it disintegrates into a rather pretentious journey of a young man looking for the essence of life . a sad disappointment ., Text xxbos what 's the matter with you people ? john dahl ? from \" rounders \" and \" unforgettable \" ? xxup too quirky ? knocking emma thompson and alan rickman for having fun playing against type ? and somebody liked the gingerbread man ? \n",
       "\n",
       " i rented this not knowing anything about it and found it about as nifty a video find as you can get . never insulting , well thought out , funny , scary . i disagree with the naysayers , clearly . i thought the story itself was unremarkable but the great cast , which most likely means the director was paying attention , lifted it to super cool status . good sound design also ( much more appreciated in surround , but i 'm not bragging ) . and yes , i 'm a girl , so maybe it has a slight female slant ( the guys in the gang are pretty worthwhile ) . all in all , a 9 and a hearty xxup recommend ., Text xxbos johnnie ( bert wheeler ) is a would - be songwriter ; newton ( robert woolsey ) is a would - be inventor . both work at a cigar stand in the lobby of an office building . johnnie wants to sell a song to winfield lake , a song publisher who also owns the building . lake 's secretary , mary ( betty grable ) , is johnnie 's sweetheart . when lake turns up dead , circumstances conspire to make mary and newton think that johnnie is the killer . they conspire again to implicate mary , who goes to jail . but who really shot lake ? who is the black widow , the blackmailer who had threatened him ? the other characters in this wacky murder mystery are : lake 's suspicious wife , a self - satisfied private detective , a seemingly slow - witted janitor ( willie best ) , lake 's auditor , a songwriter who thinks lake is stealing from him and another who thinks everyone is stealing from him . it 's up to newton and his truth machine to reveal the real killer . \n",
       "\n",
       " the baby - voiced wheeler and the cigar - chomping woolsey strike me as an arbitrary pairing , but they made several movies together in the 30s and some of them were funny . \n",
       "\n",
       " not this one . george stevens , who went on to have a distinguished career , directed this dismal comedy with a tedious murder mystery plot . but two scenes are good , and both feature wheeler and betty grable singing the excellent \" music in my heart , \" written by dorothy fields and jimmy mchugh . the first time , they sing it walking up a staircase ( after which they dance back down ) . later , wheeler and woolsey are on stilts so that they can see and talk to mary , who is in a jail cell on a high floor . wheeler and grable sing to each other through the bars . \n",
       "\n",
       " \" the nitwits \" has a few laughs , but the level of comedy is best illustrated by woolsey 's line : \" sonny , you 've got the brain of a six - year - old boy . and i 'll bet even he was glad to get rid of it . \" it 's watered - down xxunk did n't use the superfluous \" even \" when he said it ., Text xxbos this film has the guts to suggest that it might be best to simply accept your life as it is , and keep smiling anyway . as one who is more excited by the idea of taking charge of one 's life and moving forward , i felt slapped in the face , but that 's okay : i do n't have to agree with a movie to love it and respect it . great acting by streep and hurt , and everyone else really , and some wonderfully quirky scenes . a serious film . and take a hanky .]...\n",
       "Path: /home/farzin/rnn_python_code/wiki103_from_download/clas;\n",
       "\n",
       "Test: None, model=SequentialRNN(\n",
       "  (0): MultiBatchRNNCore(\n",
       "    (encoder): Embedding(60004, 400, padding_idx=1)\n",
       "    (encoder_dp): EmbeddingDropout(\n",
       "      (emb): Embedding(60004, 400, padding_idx=1)\n",
       "    )\n",
       "    (rnns): ModuleList(\n",
       "      (0): QRNNLayer(\n",
       "        (linear): WeightDropout(\n",
       "          (module): Linear(in_features=800, out_features=3333, bias=True)\n",
       "        )\n",
       "      )\n",
       "      (1): QRNNLayer(\n",
       "        (linear): WeightDropout(\n",
       "          (module): Linear(in_features=1111, out_features=3333, bias=True)\n",
       "        )\n",
       "      )\n",
       "      (2): QRNNLayer(\n",
       "        (linear): WeightDropout(\n",
       "          (module): Linear(in_features=1111, out_features=3333, bias=True)\n",
       "        )\n",
       "      )\n",
       "      (3): QRNNLayer(\n",
       "        (linear): WeightDropout(\n",
       "          (module): Linear(in_features=1111, out_features=1200, bias=True)\n",
       "        )\n",
       "      )\n",
       "    )\n",
       "    (input_dp): RNNDropout()\n",
       "    (hidden_dps): ModuleList(\n",
       "      (0): RNNDropout()\n",
       "      (1): RNNDropout()\n",
       "      (2): RNNDropout()\n",
       "      (3): RNNDropout()\n",
       "    )\n",
       "  )\n",
       "  (1): PoolingLinearClassifier(\n",
       "    (layers): Sequential(\n",
       "      (0): BatchNorm1d(1200, eps=1e-05, momentum=0.1, affine=True, track_running_stats=True)\n",
       "      (1): Dropout(p=0.2)\n",
       "      (2): Linear(in_features=1200, out_features=50, bias=True)\n",
       "      (3): ReLU(inplace)\n",
       "      (4): BatchNorm1d(50, eps=1e-05, momentum=0.1, affine=True, track_running_stats=True)\n",
       "      (5): Dropout(p=0.1)\n",
       "      (6): Linear(in_features=50, out_features=2, bias=True)\n",
       "    )\n",
       "  )\n",
       "), opt_func=functools.partial(<class 'torch.optim.adam.Adam'>, betas=(0.9, 0.99)), loss_func=<fastai.layers.FlattenedLoss object at 0x7fdb4702be80>, metrics=[<function accuracy at 0x7fdac5aab8c8>], true_wd=True, bn_wd=True, wd=0.01, train_bn=True, path=PosixPath('/home/farzin/rnn_python_code/wiki103_from_download/clas'), model_dir='models', callback_fns=[<class 'fastai.basic_train.Recorder'>], callbacks=[RNNTrainer\n",
       "learn: RNNLearner(data=TextClasDataBunch;\n",
       "\n",
       "Train: LabelList\n",
       "y: CategoryList (25000 items)\n",
       "[Category 0, Category 0, Category 1, Category 0, Category 1]...\n",
       "Path: /home/farzin/rnn_python_code/wiki103_from_download/clas\n",
       "x: TextList (25000 items)\n",
       "[Text xxbos another trashy grade z quickie from the prolific albert pyun . tim xxunk 13 inch clint eastwood - like cop from outer space chases an ugly flying head ( ! ) to earth and gets involved in a gang war in south bronx ! mercifully short , but xxunk dull , with the cheesiest effects since attack of the 50 ft woman . they should have fired the continuity guy , too : note how xxunk sunglasses disappears and reappears in every second shot . laughably bad , but that´s why we watch these movies , xxunk it ? sequel ´ dollman vs. demonic toys ´ is reportedly even worse , if that´s possible . \n",
       "\n",
       " 0 ( of xxrep 4 * ) \n",
       "\n",
       ", Text xxbos this show stinks . for parents , they usually want their kids to watch something good for them . it is usually educational , funny , and bright . \n",
       "\n",
       " is it educational ? no . the doodlebops sing and that 's it . they usually sing about themselves , they do n't try teaching anything . \n",
       "\n",
       " is it funny ? no . the doodlebops instead say something which is not intended as a joke , and laugh at it . \n",
       "\n",
       " is it bright ? it 's so bright , it 's painful . as far as color , s everything is extremely bright , so that 's good . but xxup nothing is ever wrong in the world of the xxunk 's . therefore , they are always happy . a kid in trouble will become depressed because they have never been exposed to being sad . \n",
       "\n",
       " the show is also extremely cheesy . every syllable is said to the highest level of exaggeration and very corny . it 's overkill . \n",
       "\n",
       " for kids , it 's entertaining , but past the age of 2 you wo n't want your kids to see it . they 'll never know how to grow up ., Text xxbos just two comments xxrep 4 . xxup seven years apart ? hardly evidence of the film 's relentless pulling - power ! as has been mentioned , the low - budget telemovie status of 13 xxup gantry xxup row is a mitigating factor in its limited appeal . having said that however the thing is not without merit - either as entertainment or as a fright outing per se . \n",
       "\n",
       " true , the plot at its most basic is a re - working of xxup the xxup amityville xxup horror - only without much horror . more a case of intrigue ! gibney might have made a more worthwhile impression if she had played xxunk xxunk a couple of seemingly unconnected murders with the \" house \" as the main suspect . the script is better than average and the production overall of a high standard . it just fails to engage the viewer particularly at key moments . \n",
       "\n",
       " having picked the xxup dvd up for a mere $ xxunk last week at my regular video store , i can not begrudge the expenditure . $ xxunk would be an acceptable price for the film . just do n't expect fireworks !, Text xxbos xxup some xxup not - so- xxup xxunk xxup spoilers xxup ahead \n",
       "\n",
       " why do people , when they are disoriented or sick or scared at a club , cut through the middle of the crowded dance floor on their way to the bathroom ? \n",
       "\n",
       " who in their right mind would hide under a bed when someone breaks into their room ? \n",
       "\n",
       " how often do you knock on a stranger 's door and when they do n't xxup immediately answer , you open the door , walk in , shout a few hello 's and then start going through their stuff ? \n",
       "\n",
       " if you were being pursued by someone you just discovered was a murderer , what would you do ? quietly sneak off and hide under a wooden platform or among metal implements ? run , quietly of course , to a ratty old barn or other decrepit structure ? \n",
       "\n",
       " i could be talking about almost any thriller that 's come out in the last few years , but since this is the \" the return \" page , obviously i 'm talking about \" the return . \" i saw it free because i work at a movie theater and make a point of screening all the \" scary \" movies . i thought this one was tolerable ... aside from the well - worn clichés . sarah michelle gellar is really drab and looks kind of \" huh ? \" through most of the film . the details of the plot are slowly given out as the movie progresses and it 's almost enough to make it interesting except there was n't enough explanation as it moved on and so i was almost lost until the last 2 / 3 of it . \n",
       "\n",
       " if you 're a die - hard thriller fan , it 's worth seeing at least once . if there 's nothing better at the theater and you really want to watch a movie , eh , i guess it 's worth a matinée ticket . if you thought the trailer made it look like an interesting movie and you ca n't wait ... wait ., Text xxbos this is a very funny movie , easy to watch , that entertains you almost all the time . the work of the director is recognizable and the type of humor is his trademark . the movie is a typical police partners history like lethal weapon , but the jokes and comedy are of argentinian sort . the twist is that one of them is a psychologist played by peretti and has to go with detective diaz ( played by luque ) on his assignments while he also assist him ( diaz is troubled because his wife cheated on him ) . some of the dialogs are hilarious worldwide : understandable and laughable anywhere . is very good overall , it would deserved an 8 , but i rated 7 because it gets a little down at the end . on a personal remark i must add that is a \" bravo \" for argentinian filmmakers , considering the little good is coming lately .]...\n",
       "Path: /home/farzin/rnn_python_code/wiki103_from_download/clas;\n",
       "\n",
       "Valid: LabelList\n",
       "y: CategoryList (25000 items)\n",
       "[Category 0, Category 0, Category 1, Category 0, Category 1]...\n",
       "Path: /home/farzin/rnn_python_code/wiki103_from_download/clas\n",
       "x: TextList (25000 items)\n",
       "[Text xxbos i thought it will be a ok movie after seeing the commercials about it . it was funny at some parts and some very nasty . the only person i felt sorry for is horatio sans who got a hot wife who is cheating on him with other women . but he never got a chance to have a threesome with until the and that was good but they should have made more bigger thru out the film ., Text xxbos i enjoyed carax 's \" les amants du pont neuf \" and was therefore expecting this film to be of a similar standard . well , the first 10 minutes were ok , but then it disintegrates into a rather pretentious journey of a young man looking for the essence of life . a sad disappointment ., Text xxbos what 's the matter with you people ? john dahl ? from \" rounders \" and \" unforgettable \" ? xxup too quirky ? knocking emma thompson and alan rickman for having fun playing against type ? and somebody liked the gingerbread man ? \n",
       "\n",
       " i rented this not knowing anything about it and found it about as nifty a video find as you can get . never insulting , well thought out , funny , scary . i disagree with the naysayers , clearly . i thought the story itself was unremarkable but the great cast , which most likely means the director was paying attention , lifted it to super cool status . good sound design also ( much more appreciated in surround , but i 'm not bragging ) . and yes , i 'm a girl , so maybe it has a slight female slant ( the guys in the gang are pretty worthwhile ) . all in all , a 9 and a hearty xxup recommend ., Text xxbos johnnie ( bert wheeler ) is a would - be songwriter ; newton ( robert woolsey ) is a would - be inventor . both work at a cigar stand in the lobby of an office building . johnnie wants to sell a song to winfield lake , a song publisher who also owns the building . lake 's secretary , mary ( betty grable ) , is johnnie 's sweetheart . when lake turns up dead , circumstances conspire to make mary and newton think that johnnie is the killer . they conspire again to implicate mary , who goes to jail . but who really shot lake ? who is the black widow , the blackmailer who had threatened him ? the other characters in this wacky murder mystery are : lake 's suspicious wife , a self - satisfied private detective , a seemingly slow - witted janitor ( willie best ) , lake 's auditor , a songwriter who thinks lake is stealing from him and another who thinks everyone is stealing from him . it 's up to newton and his truth machine to reveal the real killer . \n",
       "\n",
       " the baby - voiced wheeler and the cigar - chomping woolsey strike me as an arbitrary pairing , but they made several movies together in the 30s and some of them were funny . \n",
       "\n",
       " not this one . george stevens , who went on to have a distinguished career , directed this dismal comedy with a tedious murder mystery plot . but two scenes are good , and both feature wheeler and betty grable singing the excellent \" music in my heart , \" written by dorothy fields and jimmy mchugh . the first time , they sing it walking up a staircase ( after which they dance back down ) . later , wheeler and woolsey are on stilts so that they can see and talk to mary , who is in a jail cell on a high floor . wheeler and grable sing to each other through the bars . \n",
       "\n",
       " \" the nitwits \" has a few laughs , but the level of comedy is best illustrated by woolsey 's line : \" sonny , you 've got the brain of a six - year - old boy . and i 'll bet even he was glad to get rid of it . \" it 's watered - down xxunk did n't use the superfluous \" even \" when he said it ., Text xxbos this film has the guts to suggest that it might be best to simply accept your life as it is , and keep smiling anyway . as one who is more excited by the idea of taking charge of one 's life and moving forward , i felt slapped in the face , but that 's okay : i do n't have to agree with a movie to love it and respect it . great acting by streep and hurt , and everyone else really , and some wonderfully quirky scenes . a serious film . and take a hanky .]...\n",
       "Path: /home/farzin/rnn_python_code/wiki103_from_download/clas;\n",
       "\n",
       "Test: None, model=SequentialRNN(\n",
       "  (0): MultiBatchRNNCore(\n",
       "    (encoder): Embedding(60004, 400, padding_idx=1)\n",
       "    (encoder_dp): EmbeddingDropout(\n",
       "      (emb): Embedding(60004, 400, padding_idx=1)\n",
       "    )\n",
       "    (rnns): ModuleList(\n",
       "      (0): QRNNLayer(\n",
       "        (linear): WeightDropout(\n",
       "          (module): Linear(in_features=800, out_features=3333, bias=True)\n",
       "        )\n",
       "      )\n",
       "      (1): QRNNLayer(\n",
       "        (linear): WeightDropout(\n",
       "          (module): Linear(in_features=1111, out_features=3333, bias=True)\n",
       "        )\n",
       "      )\n",
       "      (2): QRNNLayer(\n",
       "        (linear): WeightDropout(\n",
       "          (module): Linear(in_features=1111, out_features=3333, bias=True)\n",
       "        )\n",
       "      )\n",
       "      (3): QRNNLayer(\n",
       "        (linear): WeightDropout(\n",
       "          (module): Linear(in_features=1111, out_features=1200, bias=True)\n",
       "        )\n",
       "      )\n",
       "    )\n",
       "    (input_dp): RNNDropout()\n",
       "    (hidden_dps): ModuleList(\n",
       "      (0): RNNDropout()\n",
       "      (1): RNNDropout()\n",
       "      (2): RNNDropout()\n",
       "      (3): RNNDropout()\n",
       "    )\n",
       "  )\n",
       "  (1): PoolingLinearClassifier(\n",
       "    (layers): Sequential(\n",
       "      (0): BatchNorm1d(1200, eps=1e-05, momentum=0.1, affine=True, track_running_stats=True)\n",
       "      (1): Dropout(p=0.2)\n",
       "      (2): Linear(in_features=1200, out_features=50, bias=True)\n",
       "      (3): ReLU(inplace)\n",
       "      (4): BatchNorm1d(50, eps=1e-05, momentum=0.1, affine=True, track_running_stats=True)\n",
       "      (5): Dropout(p=0.1)\n",
       "      (6): Linear(in_features=50, out_features=2, bias=True)\n",
       "    )\n",
       "  )\n",
       "), opt_func=functools.partial(<class 'torch.optim.adam.Adam'>, betas=(0.9, 0.99)), loss_func=<fastai.layers.FlattenedLoss object at 0x7fdb4702be80>, metrics=[<function accuracy at 0x7fdac5aab8c8>], true_wd=True, bn_wd=True, wd=0.01, train_bn=True, path=PosixPath('/home/farzin/rnn_python_code/wiki103_from_download/clas'), model_dir='models', callback_fns=[<class 'fastai.basic_train.Recorder'>], callbacks=[...], layer_groups=[Sequential(\n",
       "  (0): Embedding(60004, 400, padding_idx=1)\n",
       "  (1): EmbeddingDropout(\n",
       "    (emb): Embedding(60004, 400, padding_idx=1)\n",
       "  )\n",
       "), Sequential(\n",
       "  (0): QRNNLayer(\n",
       "    (linear): WeightDropout(\n",
       "      (module): Linear(in_features=800, out_features=3333, bias=True)\n",
       "    )\n",
       "  )\n",
       "  (1): RNNDropout()\n",
       "), Sequential(\n",
       "  (0): QRNNLayer(\n",
       "    (linear): WeightDropout(\n",
       "      (module): Linear(in_features=1111, out_features=3333, bias=True)\n",
       "    )\n",
       "  )\n",
       "  (1): RNNDropout()\n",
       "), Sequential(\n",
       "  (0): QRNNLayer(\n",
       "    (linear): WeightDropout(\n",
       "      (module): Linear(in_features=1111, out_features=3333, bias=True)\n",
       "    )\n",
       "  )\n",
       "  (1): RNNDropout()\n",
       "), Sequential(\n",
       "  (0): QRNNLayer(\n",
       "    (linear): WeightDropout(\n",
       "      (module): Linear(in_features=1111, out_features=1200, bias=True)\n",
       "    )\n",
       "  )\n",
       "  (1): RNNDropout()\n",
       "), Sequential(\n",
       "  (0): PoolingLinearClassifier(\n",
       "    (layers): Sequential(\n",
       "      (0): BatchNorm1d(1200, eps=1e-05, momentum=0.1, affine=True, track_running_stats=True)\n",
       "      (1): Dropout(p=0.2)\n",
       "      (2): Linear(in_features=1200, out_features=50, bias=True)\n",
       "      (3): ReLU(inplace)\n",
       "      (4): BatchNorm1d(50, eps=1e-05, momentum=0.1, affine=True, track_running_stats=True)\n",
       "      (5): Dropout(p=0.1)\n",
       "      (6): Linear(in_features=50, out_features=2, bias=True)\n",
       "    )\n",
       "  )\n",
       ")])\n",
       "bptt: 140\n",
       "alpha: 2.0\n",
       "beta: 1.0\n",
       "adjust: False], layer_groups=[Sequential(\n",
       "  (0): Embedding(60004, 400, padding_idx=1)\n",
       "  (1): EmbeddingDropout(\n",
       "    (emb): Embedding(60004, 400, padding_idx=1)\n",
       "  )\n",
       "), Sequential(\n",
       "  (0): QRNNLayer(\n",
       "    (linear): WeightDropout(\n",
       "      (module): Linear(in_features=800, out_features=3333, bias=True)\n",
       "    )\n",
       "  )\n",
       "  (1): RNNDropout()\n",
       "), Sequential(\n",
       "  (0): QRNNLayer(\n",
       "    (linear): WeightDropout(\n",
       "      (module): Linear(in_features=1111, out_features=3333, bias=True)\n",
       "    )\n",
       "  )\n",
       "  (1): RNNDropout()\n",
       "), Sequential(\n",
       "  (0): QRNNLayer(\n",
       "    (linear): WeightDropout(\n",
       "      (module): Linear(in_features=1111, out_features=3333, bias=True)\n",
       "    )\n",
       "  )\n",
       "  (1): RNNDropout()\n",
       "), Sequential(\n",
       "  (0): QRNNLayer(\n",
       "    (linear): WeightDropout(\n",
       "      (module): Linear(in_features=1111, out_features=1200, bias=True)\n",
       "    )\n",
       "  )\n",
       "  (1): RNNDropout()\n",
       "), Sequential(\n",
       "  (0): PoolingLinearClassifier(\n",
       "    (layers): Sequential(\n",
       "      (0): BatchNorm1d(1200, eps=1e-05, momentum=0.1, affine=True, track_running_stats=True)\n",
       "      (1): Dropout(p=0.2)\n",
       "      (2): Linear(in_features=1200, out_features=50, bias=True)\n",
       "      (3): ReLU(inplace)\n",
       "      (4): BatchNorm1d(50, eps=1e-05, momentum=0.1, affine=True, track_running_stats=True)\n",
       "      (5): Dropout(p=0.1)\n",
       "      (6): Linear(in_features=50, out_features=2, bias=True)\n",
       "    )\n",
       "  )\n",
       ")])"
      ]
     },
     "execution_count": 54,
     "metadata": {},
     "output_type": "execute_result"
    }
   ],
   "source": [
    "learn_cls.load('third')"
   ]
  },
  {
   "cell_type": "code",
   "execution_count": 55,
   "metadata": {},
   "outputs": [
    {
     "data": {
      "text/html": [
       "Total time: 12:34 <p><table style='width:300px; margin-bottom:10px'>\n",
       "  <tr>\n",
       "    <th>epoch</th>\n",
       "    <th>train_loss</th>\n",
       "    <th>valid_loss</th>\n",
       "    <th>accuracy</th>\n",
       "  </tr>\n",
       "  <tr>\n",
       "    <th>1</th>\n",
       "    <th>0.272714</th>\n",
       "    <th>0.196669</th>\n",
       "    <th>0.927640</th>\n",
       "  </tr>\n",
       "  <tr>\n",
       "    <th>2</th>\n",
       "    <th>0.256802</th>\n",
       "    <th>0.171460</th>\n",
       "    <th>0.936040</th>\n",
       "  </tr>\n",
       "  <tr>\n",
       "    <th>3</th>\n",
       "    <th>0.201326</th>\n",
       "    <th>0.167112</th>\n",
       "    <th>0.938600</th>\n",
       "  </tr>\n",
       "</table>\n"
      ],
      "text/plain": [
       "<IPython.core.display.HTML object>"
      ]
     },
     "metadata": {},
     "output_type": "display_data"
    }
   ],
   "source": [
    "learn_cls.unfreeze()\n",
    "learn_cls.fit_one_cycle(3, slice(1e-2/(2.6**4),3e-2), moms=(0.8,0.7), pct_start=0.1)"
   ]
  },
  {
   "cell_type": "code",
   "execution_count": 60,
   "metadata": {},
   "outputs": [],
   "source": [
    "learn_cls.save('final')"
   ]
  },
  {
   "cell_type": "code",
   "execution_count": null,
   "metadata": {},
   "outputs": [],
   "source": [
    "del learn_cls"
   ]
  },
  {
   "cell_type": "code",
   "execution_count": 171,
   "metadata": {},
   "outputs": [],
   "source": [
    "torch.cuda.empty_cache()"
   ]
  },
  {
   "cell_type": "markdown",
   "metadata": {},
   "source": [
    "## Investigate mis-labeled cases in train set. \n",
    "Are they marginal reviews?  Other details that could be better addressed?"
   ]
  },
  {
   "cell_type": "code",
   "execution_count": 24,
   "metadata": {},
   "outputs": [
    {
     "data": {
      "text/plain": [
       "RNNLearner(data=TextClasDataBunch;\n",
       "\n",
       "Train: LabelList\n",
       "y: CategoryList (25000 items)\n",
       "[Category 0, Category 0, Category 1, Category 0, Category 1]...\n",
       "Path: /home/farzin/rnn_python_code/wiki103_from_download/clas\n",
       "x: TextList (25000 items)\n",
       "[Text xxbos another trashy grade z quickie from the prolific albert pyun . tim xxunk 13 inch clint eastwood - like cop from outer space chases an ugly flying head ( ! ) to earth and gets involved in a gang war in south bronx ! mercifully short , but xxunk dull , with the cheesiest effects since attack of the 50 ft woman . they should have fired the continuity guy , too : note how xxunk sunglasses disappears and reappears in every second shot . laughably bad , but that´s why we watch these movies , xxunk it ? sequel ´ dollman vs. demonic toys ´ is reportedly even worse , if that´s possible . \n",
       "\n",
       " 0 ( of xxrep 4 * ) \n",
       "\n",
       ", Text xxbos this show stinks . for parents , they usually want their kids to watch something good for them . it is usually educational , funny , and bright . \n",
       "\n",
       " is it educational ? no . the doodlebops sing and that 's it . they usually sing about themselves , they do n't try teaching anything . \n",
       "\n",
       " is it funny ? no . the doodlebops instead say something which is not intended as a joke , and laugh at it . \n",
       "\n",
       " is it bright ? it 's so bright , it 's painful . as far as color , s everything is extremely bright , so that 's good . but xxup nothing is ever wrong in the world of the xxunk 's . therefore , they are always happy . a kid in trouble will become depressed because they have never been exposed to being sad . \n",
       "\n",
       " the show is also extremely cheesy . every syllable is said to the highest level of exaggeration and very corny . it 's overkill . \n",
       "\n",
       " for kids , it 's entertaining , but past the age of 2 you wo n't want your kids to see it . they 'll never know how to grow up ., Text xxbos just two comments xxrep 4 . xxup seven years apart ? hardly evidence of the film 's relentless pulling - power ! as has been mentioned , the low - budget telemovie status of 13 xxup gantry xxup row is a mitigating factor in its limited appeal . having said that however the thing is not without merit - either as entertainment or as a fright outing per se . \n",
       "\n",
       " true , the plot at its most basic is a re - working of xxup the xxup amityville xxup horror - only without much horror . more a case of intrigue ! gibney might have made a more worthwhile impression if she had played xxunk xxunk a couple of seemingly unconnected murders with the \" house \" as the main suspect . the script is better than average and the production overall of a high standard . it just fails to engage the viewer particularly at key moments . \n",
       "\n",
       " having picked the xxup dvd up for a mere $ xxunk last week at my regular video store , i can not begrudge the expenditure . $ xxunk would be an acceptable price for the film . just do n't expect fireworks !, Text xxbos xxup some xxup not - so- xxup xxunk xxup spoilers xxup ahead \n",
       "\n",
       " why do people , when they are disoriented or sick or scared at a club , cut through the middle of the crowded dance floor on their way to the bathroom ? \n",
       "\n",
       " who in their right mind would hide under a bed when someone breaks into their room ? \n",
       "\n",
       " how often do you knock on a stranger 's door and when they do n't xxup immediately answer , you open the door , walk in , shout a few hello 's and then start going through their stuff ? \n",
       "\n",
       " if you were being pursued by someone you just discovered was a murderer , what would you do ? quietly sneak off and hide under a wooden platform or among metal implements ? run , quietly of course , to a ratty old barn or other decrepit structure ? \n",
       "\n",
       " i could be talking about almost any thriller that 's come out in the last few years , but since this is the \" the return \" page , obviously i 'm talking about \" the return . \" i saw it free because i work at a movie theater and make a point of screening all the \" scary \" movies . i thought this one was tolerable ... aside from the well - worn clichés . sarah michelle gellar is really drab and looks kind of \" huh ? \" through most of the film . the details of the plot are slowly given out as the movie progresses and it 's almost enough to make it interesting except there was n't enough explanation as it moved on and so i was almost lost until the last 2 / 3 of it . \n",
       "\n",
       " if you 're a die - hard thriller fan , it 's worth seeing at least once . if there 's nothing better at the theater and you really want to watch a movie , eh , i guess it 's worth a matinée ticket . if you thought the trailer made it look like an interesting movie and you ca n't wait ... wait ., Text xxbos this is a very funny movie , easy to watch , that entertains you almost all the time . the work of the director is recognizable and the type of humor is his trademark . the movie is a typical police partners history like lethal weapon , but the jokes and comedy are of argentinian sort . the twist is that one of them is a psychologist played by peretti and has to go with detective diaz ( played by luque ) on his assignments while he also assist him ( diaz is troubled because his wife cheated on him ) . some of the dialogs are hilarious worldwide : understandable and laughable anywhere . is very good overall , it would deserved an 8 , but i rated 7 because it gets a little down at the end . on a personal remark i must add that is a \" bravo \" for argentinian filmmakers , considering the little good is coming lately .]...\n",
       "Path: /home/farzin/rnn_python_code/wiki103_from_download/clas;\n",
       "\n",
       "Valid: LabelList\n",
       "y: CategoryList (25000 items)\n",
       "[Category 0, Category 0, Category 1, Category 0, Category 1]...\n",
       "Path: /home/farzin/rnn_python_code/wiki103_from_download/clas\n",
       "x: TextList (25000 items)\n",
       "[Text xxbos i thought it will be a ok movie after seeing the commercials about it . it was funny at some parts and some very nasty . the only person i felt sorry for is horatio sans who got a hot wife who is cheating on him with other women . but he never got a chance to have a threesome with until the and that was good but they should have made more bigger thru out the film ., Text xxbos i enjoyed carax 's \" les amants du pont neuf \" and was therefore expecting this film to be of a similar standard . well , the first 10 minutes were ok , but then it disintegrates into a rather pretentious journey of a young man looking for the essence of life . a sad disappointment ., Text xxbos what 's the matter with you people ? john dahl ? from \" rounders \" and \" unforgettable \" ? xxup too quirky ? knocking emma thompson and alan rickman for having fun playing against type ? and somebody liked the gingerbread man ? \n",
       "\n",
       " i rented this not knowing anything about it and found it about as nifty a video find as you can get . never insulting , well thought out , funny , scary . i disagree with the naysayers , clearly . i thought the story itself was unremarkable but the great cast , which most likely means the director was paying attention , lifted it to super cool status . good sound design also ( much more appreciated in surround , but i 'm not bragging ) . and yes , i 'm a girl , so maybe it has a slight female slant ( the guys in the gang are pretty worthwhile ) . all in all , a 9 and a hearty xxup recommend ., Text xxbos johnnie ( bert wheeler ) is a would - be songwriter ; newton ( robert woolsey ) is a would - be inventor . both work at a cigar stand in the lobby of an office building . johnnie wants to sell a song to winfield lake , a song publisher who also owns the building . lake 's secretary , mary ( betty grable ) , is johnnie 's sweetheart . when lake turns up dead , circumstances conspire to make mary and newton think that johnnie is the killer . they conspire again to implicate mary , who goes to jail . but who really shot lake ? who is the black widow , the blackmailer who had threatened him ? the other characters in this wacky murder mystery are : lake 's suspicious wife , a self - satisfied private detective , a seemingly slow - witted janitor ( willie best ) , lake 's auditor , a songwriter who thinks lake is stealing from him and another who thinks everyone is stealing from him . it 's up to newton and his truth machine to reveal the real killer . \n",
       "\n",
       " the baby - voiced wheeler and the cigar - chomping woolsey strike me as an arbitrary pairing , but they made several movies together in the 30s and some of them were funny . \n",
       "\n",
       " not this one . george stevens , who went on to have a distinguished career , directed this dismal comedy with a tedious murder mystery plot . but two scenes are good , and both feature wheeler and betty grable singing the excellent \" music in my heart , \" written by dorothy fields and jimmy mchugh . the first time , they sing it walking up a staircase ( after which they dance back down ) . later , wheeler and woolsey are on stilts so that they can see and talk to mary , who is in a jail cell on a high floor . wheeler and grable sing to each other through the bars . \n",
       "\n",
       " \" the nitwits \" has a few laughs , but the level of comedy is best illustrated by woolsey 's line : \" sonny , you 've got the brain of a six - year - old boy . and i 'll bet even he was glad to get rid of it . \" it 's watered - down xxunk did n't use the superfluous \" even \" when he said it ., Text xxbos this film has the guts to suggest that it might be best to simply accept your life as it is , and keep smiling anyway . as one who is more excited by the idea of taking charge of one 's life and moving forward , i felt slapped in the face , but that 's okay : i do n't have to agree with a movie to love it and respect it . great acting by streep and hurt , and everyone else really , and some wonderfully quirky scenes . a serious film . and take a hanky .]...\n",
       "Path: /home/farzin/rnn_python_code/wiki103_from_download/clas;\n",
       "\n",
       "Test: None, model=SequentialRNN(\n",
       "  (0): MultiBatchRNNCore(\n",
       "    (encoder): Embedding(60004, 400, padding_idx=1)\n",
       "    (encoder_dp): EmbeddingDropout(\n",
       "      (emb): Embedding(60004, 400, padding_idx=1)\n",
       "    )\n",
       "    (rnns): ModuleList(\n",
       "      (0): QRNNLayer(\n",
       "        (linear): WeightDropout(\n",
       "          (module): Linear(in_features=800, out_features=3333, bias=True)\n",
       "        )\n",
       "      )\n",
       "      (1): QRNNLayer(\n",
       "        (linear): WeightDropout(\n",
       "          (module): Linear(in_features=1111, out_features=3333, bias=True)\n",
       "        )\n",
       "      )\n",
       "      (2): QRNNLayer(\n",
       "        (linear): WeightDropout(\n",
       "          (module): Linear(in_features=1111, out_features=3333, bias=True)\n",
       "        )\n",
       "      )\n",
       "      (3): QRNNLayer(\n",
       "        (linear): WeightDropout(\n",
       "          (module): Linear(in_features=1111, out_features=1200, bias=True)\n",
       "        )\n",
       "      )\n",
       "    )\n",
       "    (input_dp): RNNDropout()\n",
       "    (hidden_dps): ModuleList(\n",
       "      (0): RNNDropout()\n",
       "      (1): RNNDropout()\n",
       "      (2): RNNDropout()\n",
       "      (3): RNNDropout()\n",
       "    )\n",
       "  )\n",
       "  (1): PoolingLinearClassifier(\n",
       "    (layers): Sequential(\n",
       "      (0): BatchNorm1d(1200, eps=1e-05, momentum=0.1, affine=True, track_running_stats=True)\n",
       "      (1): Dropout(p=0.2)\n",
       "      (2): Linear(in_features=1200, out_features=50, bias=True)\n",
       "      (3): ReLU(inplace)\n",
       "      (4): BatchNorm1d(50, eps=1e-05, momentum=0.1, affine=True, track_running_stats=True)\n",
       "      (5): Dropout(p=0.1)\n",
       "      (6): Linear(in_features=50, out_features=2, bias=True)\n",
       "    )\n",
       "  )\n",
       "), opt_func=functools.partial(<class 'torch.optim.adam.Adam'>, betas=(0.9, 0.99)), loss_func=<fastai.layers.FlattenedLoss object at 0x7f0ea3f00470>, metrics=[<function accuracy at 0x7f0e1d96f620>], true_wd=True, bn_wd=True, wd=0.01, train_bn=True, path=PosixPath('/home/farzin/rnn_python_code/wiki103_from_download/clas'), model_dir='models', callback_fns=[<class 'fastai.basic_train.Recorder'>], callbacks=[RNNTrainer\n",
       "learn: RNNLearner(data=TextClasDataBunch;\n",
       "\n",
       "Train: LabelList\n",
       "y: CategoryList (25000 items)\n",
       "[Category 0, Category 0, Category 1, Category 0, Category 1]...\n",
       "Path: /home/farzin/rnn_python_code/wiki103_from_download/clas\n",
       "x: TextList (25000 items)\n",
       "[Text xxbos another trashy grade z quickie from the prolific albert pyun . tim xxunk 13 inch clint eastwood - like cop from outer space chases an ugly flying head ( ! ) to earth and gets involved in a gang war in south bronx ! mercifully short , but xxunk dull , with the cheesiest effects since attack of the 50 ft woman . they should have fired the continuity guy , too : note how xxunk sunglasses disappears and reappears in every second shot . laughably bad , but that´s why we watch these movies , xxunk it ? sequel ´ dollman vs. demonic toys ´ is reportedly even worse , if that´s possible . \n",
       "\n",
       " 0 ( of xxrep 4 * ) \n",
       "\n",
       ", Text xxbos this show stinks . for parents , they usually want their kids to watch something good for them . it is usually educational , funny , and bright . \n",
       "\n",
       " is it educational ? no . the doodlebops sing and that 's it . they usually sing about themselves , they do n't try teaching anything . \n",
       "\n",
       " is it funny ? no . the doodlebops instead say something which is not intended as a joke , and laugh at it . \n",
       "\n",
       " is it bright ? it 's so bright , it 's painful . as far as color , s everything is extremely bright , so that 's good . but xxup nothing is ever wrong in the world of the xxunk 's . therefore , they are always happy . a kid in trouble will become depressed because they have never been exposed to being sad . \n",
       "\n",
       " the show is also extremely cheesy . every syllable is said to the highest level of exaggeration and very corny . it 's overkill . \n",
       "\n",
       " for kids , it 's entertaining , but past the age of 2 you wo n't want your kids to see it . they 'll never know how to grow up ., Text xxbos just two comments xxrep 4 . xxup seven years apart ? hardly evidence of the film 's relentless pulling - power ! as has been mentioned , the low - budget telemovie status of 13 xxup gantry xxup row is a mitigating factor in its limited appeal . having said that however the thing is not without merit - either as entertainment or as a fright outing per se . \n",
       "\n",
       " true , the plot at its most basic is a re - working of xxup the xxup amityville xxup horror - only without much horror . more a case of intrigue ! gibney might have made a more worthwhile impression if she had played xxunk xxunk a couple of seemingly unconnected murders with the \" house \" as the main suspect . the script is better than average and the production overall of a high standard . it just fails to engage the viewer particularly at key moments . \n",
       "\n",
       " having picked the xxup dvd up for a mere $ xxunk last week at my regular video store , i can not begrudge the expenditure . $ xxunk would be an acceptable price for the film . just do n't expect fireworks !, Text xxbos xxup some xxup not - so- xxup xxunk xxup spoilers xxup ahead \n",
       "\n",
       " why do people , when they are disoriented or sick or scared at a club , cut through the middle of the crowded dance floor on their way to the bathroom ? \n",
       "\n",
       " who in their right mind would hide under a bed when someone breaks into their room ? \n",
       "\n",
       " how often do you knock on a stranger 's door and when they do n't xxup immediately answer , you open the door , walk in , shout a few hello 's and then start going through their stuff ? \n",
       "\n",
       " if you were being pursued by someone you just discovered was a murderer , what would you do ? quietly sneak off and hide under a wooden platform or among metal implements ? run , quietly of course , to a ratty old barn or other decrepit structure ? \n",
       "\n",
       " i could be talking about almost any thriller that 's come out in the last few years , but since this is the \" the return \" page , obviously i 'm talking about \" the return . \" i saw it free because i work at a movie theater and make a point of screening all the \" scary \" movies . i thought this one was tolerable ... aside from the well - worn clichés . sarah michelle gellar is really drab and looks kind of \" huh ? \" through most of the film . the details of the plot are slowly given out as the movie progresses and it 's almost enough to make it interesting except there was n't enough explanation as it moved on and so i was almost lost until the last 2 / 3 of it . \n",
       "\n",
       " if you 're a die - hard thriller fan , it 's worth seeing at least once . if there 's nothing better at the theater and you really want to watch a movie , eh , i guess it 's worth a matinée ticket . if you thought the trailer made it look like an interesting movie and you ca n't wait ... wait ., Text xxbos this is a very funny movie , easy to watch , that entertains you almost all the time . the work of the director is recognizable and the type of humor is his trademark . the movie is a typical police partners history like lethal weapon , but the jokes and comedy are of argentinian sort . the twist is that one of them is a psychologist played by peretti and has to go with detective diaz ( played by luque ) on his assignments while he also assist him ( diaz is troubled because his wife cheated on him ) . some of the dialogs are hilarious worldwide : understandable and laughable anywhere . is very good overall , it would deserved an 8 , but i rated 7 because it gets a little down at the end . on a personal remark i must add that is a \" bravo \" for argentinian filmmakers , considering the little good is coming lately .]...\n",
       "Path: /home/farzin/rnn_python_code/wiki103_from_download/clas;\n",
       "\n",
       "Valid: LabelList\n",
       "y: CategoryList (25000 items)\n",
       "[Category 0, Category 0, Category 1, Category 0, Category 1]...\n",
       "Path: /home/farzin/rnn_python_code/wiki103_from_download/clas\n",
       "x: TextList (25000 items)\n",
       "[Text xxbos i thought it will be a ok movie after seeing the commercials about it . it was funny at some parts and some very nasty . the only person i felt sorry for is horatio sans who got a hot wife who is cheating on him with other women . but he never got a chance to have a threesome with until the and that was good but they should have made more bigger thru out the film ., Text xxbos i enjoyed carax 's \" les amants du pont neuf \" and was therefore expecting this film to be of a similar standard . well , the first 10 minutes were ok , but then it disintegrates into a rather pretentious journey of a young man looking for the essence of life . a sad disappointment ., Text xxbos what 's the matter with you people ? john dahl ? from \" rounders \" and \" unforgettable \" ? xxup too quirky ? knocking emma thompson and alan rickman for having fun playing against type ? and somebody liked the gingerbread man ? \n",
       "\n",
       " i rented this not knowing anything about it and found it about as nifty a video find as you can get . never insulting , well thought out , funny , scary . i disagree with the naysayers , clearly . i thought the story itself was unremarkable but the great cast , which most likely means the director was paying attention , lifted it to super cool status . good sound design also ( much more appreciated in surround , but i 'm not bragging ) . and yes , i 'm a girl , so maybe it has a slight female slant ( the guys in the gang are pretty worthwhile ) . all in all , a 9 and a hearty xxup recommend ., Text xxbos johnnie ( bert wheeler ) is a would - be songwriter ; newton ( robert woolsey ) is a would - be inventor . both work at a cigar stand in the lobby of an office building . johnnie wants to sell a song to winfield lake , a song publisher who also owns the building . lake 's secretary , mary ( betty grable ) , is johnnie 's sweetheart . when lake turns up dead , circumstances conspire to make mary and newton think that johnnie is the killer . they conspire again to implicate mary , who goes to jail . but who really shot lake ? who is the black widow , the blackmailer who had threatened him ? the other characters in this wacky murder mystery are : lake 's suspicious wife , a self - satisfied private detective , a seemingly slow - witted janitor ( willie best ) , lake 's auditor , a songwriter who thinks lake is stealing from him and another who thinks everyone is stealing from him . it 's up to newton and his truth machine to reveal the real killer . \n",
       "\n",
       " the baby - voiced wheeler and the cigar - chomping woolsey strike me as an arbitrary pairing , but they made several movies together in the 30s and some of them were funny . \n",
       "\n",
       " not this one . george stevens , who went on to have a distinguished career , directed this dismal comedy with a tedious murder mystery plot . but two scenes are good , and both feature wheeler and betty grable singing the excellent \" music in my heart , \" written by dorothy fields and jimmy mchugh . the first time , they sing it walking up a staircase ( after which they dance back down ) . later , wheeler and woolsey are on stilts so that they can see and talk to mary , who is in a jail cell on a high floor . wheeler and grable sing to each other through the bars . \n",
       "\n",
       " \" the nitwits \" has a few laughs , but the level of comedy is best illustrated by woolsey 's line : \" sonny , you 've got the brain of a six - year - old boy . and i 'll bet even he was glad to get rid of it . \" it 's watered - down xxunk did n't use the superfluous \" even \" when he said it ., Text xxbos this film has the guts to suggest that it might be best to simply accept your life as it is , and keep smiling anyway . as one who is more excited by the idea of taking charge of one 's life and moving forward , i felt slapped in the face , but that 's okay : i do n't have to agree with a movie to love it and respect it . great acting by streep and hurt , and everyone else really , and some wonderfully quirky scenes . a serious film . and take a hanky .]...\n",
       "Path: /home/farzin/rnn_python_code/wiki103_from_download/clas;\n",
       "\n",
       "Test: None, model=SequentialRNN(\n",
       "  (0): MultiBatchRNNCore(\n",
       "    (encoder): Embedding(60004, 400, padding_idx=1)\n",
       "    (encoder_dp): EmbeddingDropout(\n",
       "      (emb): Embedding(60004, 400, padding_idx=1)\n",
       "    )\n",
       "    (rnns): ModuleList(\n",
       "      (0): QRNNLayer(\n",
       "        (linear): WeightDropout(\n",
       "          (module): Linear(in_features=800, out_features=3333, bias=True)\n",
       "        )\n",
       "      )\n",
       "      (1): QRNNLayer(\n",
       "        (linear): WeightDropout(\n",
       "          (module): Linear(in_features=1111, out_features=3333, bias=True)\n",
       "        )\n",
       "      )\n",
       "      (2): QRNNLayer(\n",
       "        (linear): WeightDropout(\n",
       "          (module): Linear(in_features=1111, out_features=3333, bias=True)\n",
       "        )\n",
       "      )\n",
       "      (3): QRNNLayer(\n",
       "        (linear): WeightDropout(\n",
       "          (module): Linear(in_features=1111, out_features=1200, bias=True)\n",
       "        )\n",
       "      )\n",
       "    )\n",
       "    (input_dp): RNNDropout()\n",
       "    (hidden_dps): ModuleList(\n",
       "      (0): RNNDropout()\n",
       "      (1): RNNDropout()\n",
       "      (2): RNNDropout()\n",
       "      (3): RNNDropout()\n",
       "    )\n",
       "  )\n",
       "  (1): PoolingLinearClassifier(\n",
       "    (layers): Sequential(\n",
       "      (0): BatchNorm1d(1200, eps=1e-05, momentum=0.1, affine=True, track_running_stats=True)\n",
       "      (1): Dropout(p=0.2)\n",
       "      (2): Linear(in_features=1200, out_features=50, bias=True)\n",
       "      (3): ReLU(inplace)\n",
       "      (4): BatchNorm1d(50, eps=1e-05, momentum=0.1, affine=True, track_running_stats=True)\n",
       "      (5): Dropout(p=0.1)\n",
       "      (6): Linear(in_features=50, out_features=2, bias=True)\n",
       "    )\n",
       "  )\n",
       "), opt_func=functools.partial(<class 'torch.optim.adam.Adam'>, betas=(0.9, 0.99)), loss_func=<fastai.layers.FlattenedLoss object at 0x7f0ea3f00470>, metrics=[<function accuracy at 0x7f0e1d96f620>], true_wd=True, bn_wd=True, wd=0.01, train_bn=True, path=PosixPath('/home/farzin/rnn_python_code/wiki103_from_download/clas'), model_dir='models', callback_fns=[<class 'fastai.basic_train.Recorder'>], callbacks=[...], layer_groups=[Sequential(\n",
       "  (0): Embedding(60004, 400, padding_idx=1)\n",
       "  (1): EmbeddingDropout(\n",
       "    (emb): Embedding(60004, 400, padding_idx=1)\n",
       "  )\n",
       "), Sequential(\n",
       "  (0): QRNNLayer(\n",
       "    (linear): WeightDropout(\n",
       "      (module): Linear(in_features=800, out_features=3333, bias=True)\n",
       "    )\n",
       "  )\n",
       "  (1): RNNDropout()\n",
       "), Sequential(\n",
       "  (0): QRNNLayer(\n",
       "    (linear): WeightDropout(\n",
       "      (module): Linear(in_features=1111, out_features=3333, bias=True)\n",
       "    )\n",
       "  )\n",
       "  (1): RNNDropout()\n",
       "), Sequential(\n",
       "  (0): QRNNLayer(\n",
       "    (linear): WeightDropout(\n",
       "      (module): Linear(in_features=1111, out_features=3333, bias=True)\n",
       "    )\n",
       "  )\n",
       "  (1): RNNDropout()\n",
       "), Sequential(\n",
       "  (0): QRNNLayer(\n",
       "    (linear): WeightDropout(\n",
       "      (module): Linear(in_features=1111, out_features=1200, bias=True)\n",
       "    )\n",
       "  )\n",
       "  (1): RNNDropout()\n",
       "), Sequential(\n",
       "  (0): PoolingLinearClassifier(\n",
       "    (layers): Sequential(\n",
       "      (0): BatchNorm1d(1200, eps=1e-05, momentum=0.1, affine=True, track_running_stats=True)\n",
       "      (1): Dropout(p=0.2)\n",
       "      (2): Linear(in_features=1200, out_features=50, bias=True)\n",
       "      (3): ReLU(inplace)\n",
       "      (4): BatchNorm1d(50, eps=1e-05, momentum=0.1, affine=True, track_running_stats=True)\n",
       "      (5): Dropout(p=0.1)\n",
       "      (6): Linear(in_features=50, out_features=2, bias=True)\n",
       "    )\n",
       "  )\n",
       ")])\n",
       "bptt: 140\n",
       "alpha: 2.0\n",
       "beta: 1.0\n",
       "adjust: False], layer_groups=[Sequential(\n",
       "  (0): Embedding(60004, 400, padding_idx=1)\n",
       "  (1): EmbeddingDropout(\n",
       "    (emb): Embedding(60004, 400, padding_idx=1)\n",
       "  )\n",
       "), Sequential(\n",
       "  (0): QRNNLayer(\n",
       "    (linear): WeightDropout(\n",
       "      (module): Linear(in_features=800, out_features=3333, bias=True)\n",
       "    )\n",
       "  )\n",
       "  (1): RNNDropout()\n",
       "), Sequential(\n",
       "  (0): QRNNLayer(\n",
       "    (linear): WeightDropout(\n",
       "      (module): Linear(in_features=1111, out_features=3333, bias=True)\n",
       "    )\n",
       "  )\n",
       "  (1): RNNDropout()\n",
       "), Sequential(\n",
       "  (0): QRNNLayer(\n",
       "    (linear): WeightDropout(\n",
       "      (module): Linear(in_features=1111, out_features=3333, bias=True)\n",
       "    )\n",
       "  )\n",
       "  (1): RNNDropout()\n",
       "), Sequential(\n",
       "  (0): QRNNLayer(\n",
       "    (linear): WeightDropout(\n",
       "      (module): Linear(in_features=1111, out_features=1200, bias=True)\n",
       "    )\n",
       "  )\n",
       "  (1): RNNDropout()\n",
       "), Sequential(\n",
       "  (0): PoolingLinearClassifier(\n",
       "    (layers): Sequential(\n",
       "      (0): BatchNorm1d(1200, eps=1e-05, momentum=0.1, affine=True, track_running_stats=True)\n",
       "      (1): Dropout(p=0.2)\n",
       "      (2): Linear(in_features=1200, out_features=50, bias=True)\n",
       "      (3): ReLU(inplace)\n",
       "      (4): BatchNorm1d(50, eps=1e-05, momentum=0.1, affine=True, track_running_stats=True)\n",
       "      (5): Dropout(p=0.1)\n",
       "      (6): Linear(in_features=50, out_features=2, bias=True)\n",
       "    )\n",
       "  )\n",
       ")])"
      ]
     },
     "execution_count": 24,
     "metadata": {},
     "output_type": "execute_result"
    }
   ],
   "source": [
    "learn_cls.load('final')"
   ]
  },
  {
   "cell_type": "code",
   "execution_count": 136,
   "metadata": {},
   "outputs": [],
   "source": [
    "learn_cls.data.batch_size = 8"
   ]
  },
  {
   "cell_type": "raw",
   "metadata": {},
   "source": [
    "How to check that this works properly with the train data and the test data?\n",
    "What is the smallest example?"
   ]
  },
  {
   "cell_type": "code",
   "execution_count": 168,
   "metadata": {},
   "outputs": [
    {
     "data": {
      "text/plain": [
       "<DatasetType.Fix: 5>"
      ]
     },
     "execution_count": 168,
     "metadata": {},
     "output_type": "execute_result"
    }
   ],
   "source": [
    "DatasetType.Fix"
   ]
  },
  {
   "cell_type": "code",
   "execution_count": 25,
   "metadata": {},
   "outputs": [],
   "source": [
    "y_hat, y_true = learn_cls.get_preds(DatasetType.Fix,ordered=True,)"
   ]
  },
  {
   "cell_type": "code",
   "execution_count": 26,
   "metadata": {},
   "outputs": [],
   "source": [
    "trn_df = CLS_train_df.copy()"
   ]
  },
  {
   "cell_type": "code",
   "execution_count": 27,
   "metadata": {},
   "outputs": [],
   "source": [
    "trn_df['pred0'] = to_np(y_hat)[:,0]\n",
    "trn_df['pred1'] = to_np(y_hat)[:,1]\n",
    "trn_df['pred_label']= to_np(y_hat).argmax(axis=1)"
   ]
  },
  {
   "cell_type": "code",
   "execution_count": 28,
   "metadata": {},
   "outputs": [
    {
     "data": {
      "text/plain": [
       "array([0, 0, 1, 0, 1, 1, 0, 1, 1, 0, 1, 1, 0, 0, 0, 1, 1, 1, 0, 1])"
      ]
     },
     "execution_count": 28,
     "metadata": {},
     "output_type": "execute_result"
    }
   ],
   "source": [
    "to_np(y_true)[:20]"
   ]
  },
  {
   "cell_type": "code",
   "execution_count": 29,
   "metadata": {},
   "outputs": [
    {
     "data": {
      "text/plain": [
       "array([0, 0, 1, 0, 1, 1, 0, 1, 1, 0, 1, 1, 0, 0, 0, 1, 1, 1, 0, 1])"
      ]
     },
     "execution_count": 29,
     "metadata": {},
     "output_type": "execute_result"
    }
   ],
   "source": [
    "trn_df.labels.values[:20]"
   ]
  },
  {
   "cell_type": "code",
   "execution_count": 30,
   "metadata": {},
   "outputs": [
    {
     "data": {
      "text/html": [
       "<div>\n",
       "<style scoped>\n",
       "    .dataframe tbody tr th:only-of-type {\n",
       "        vertical-align: middle;\n",
       "    }\n",
       "\n",
       "    .dataframe tbody tr th {\n",
       "        vertical-align: top;\n",
       "    }\n",
       "\n",
       "    .dataframe thead th {\n",
       "        text-align: right;\n",
       "    }\n",
       "</style>\n",
       "<table border=\"1\" class=\"dataframe\">\n",
       "  <thead>\n",
       "    <tr style=\"text-align: right;\">\n",
       "      <th></th>\n",
       "      <th>labels</th>\n",
       "      <th>text</th>\n",
       "      <th>rating</th>\n",
       "      <th>pred0</th>\n",
       "      <th>pred1</th>\n",
       "      <th>pred_label</th>\n",
       "    </tr>\n",
       "  </thead>\n",
       "  <tbody>\n",
       "    <tr>\n",
       "      <th>0</th>\n",
       "      <td>0</td>\n",
       "      <td>Another trashy Grade Z quickie from the prolif...</td>\n",
       "      <td>1</td>\n",
       "      <td>0.999561</td>\n",
       "      <td>0.000439</td>\n",
       "      <td>0</td>\n",
       "    </tr>\n",
       "    <tr>\n",
       "      <th>1</th>\n",
       "      <td>0</td>\n",
       "      <td>This show stinks. For parents, they usually wa...</td>\n",
       "      <td>2</td>\n",
       "      <td>0.983003</td>\n",
       "      <td>0.016996</td>\n",
       "      <td>0</td>\n",
       "    </tr>\n",
       "    <tr>\n",
       "      <th>5</th>\n",
       "      <td>1</td>\n",
       "      <td>Just two comments....SEVEN years apart? Hardly...</td>\n",
       "      <td>7</td>\n",
       "      <td>0.994822</td>\n",
       "      <td>0.005178</td>\n",
       "      <td>0</td>\n",
       "    </tr>\n",
       "    <tr>\n",
       "      <th>8</th>\n",
       "      <td>0</td>\n",
       "      <td>SOME NOT-SO-SPOILY SPOILERS AHEAD&lt;br /&gt;&lt;br /&gt;W...</td>\n",
       "      <td>4</td>\n",
       "      <td>0.982671</td>\n",
       "      <td>0.017329</td>\n",
       "      <td>0</td>\n",
       "    </tr>\n",
       "    <tr>\n",
       "      <th>10</th>\n",
       "      <td>1</td>\n",
       "      <td>This is a very funny movie, easy to watch, tha...</td>\n",
       "      <td>7</td>\n",
       "      <td>0.000811</td>\n",
       "      <td>0.999189</td>\n",
       "      <td>1</td>\n",
       "    </tr>\n",
       "    <tr>\n",
       "      <th>12</th>\n",
       "      <td>1</td>\n",
       "      <td>This film (like Astaire's ROYAL WEDDING - whic...</td>\n",
       "      <td>10</td>\n",
       "      <td>0.723827</td>\n",
       "      <td>0.276173</td>\n",
       "      <td>0</td>\n",
       "    </tr>\n",
       "    <tr>\n",
       "      <th>14</th>\n",
       "      <td>0</td>\n",
       "      <td>OK. So it's a low-budget \"film\" (I used the qu...</td>\n",
       "      <td>1</td>\n",
       "      <td>0.999644</td>\n",
       "      <td>0.000356</td>\n",
       "      <td>0</td>\n",
       "    </tr>\n",
       "    <tr>\n",
       "      <th>22</th>\n",
       "      <td>1</td>\n",
       "      <td>This slick and gritty film consistently delive...</td>\n",
       "      <td>9</td>\n",
       "      <td>0.002250</td>\n",
       "      <td>0.997750</td>\n",
       "      <td>1</td>\n",
       "    </tr>\n",
       "    <tr>\n",
       "      <th>25</th>\n",
       "      <td>1</td>\n",
       "      <td>As Jack Nicholson's directorial debut, Drive, ...</td>\n",
       "      <td>7</td>\n",
       "      <td>0.006704</td>\n",
       "      <td>0.993296</td>\n",
       "      <td>1</td>\n",
       "    </tr>\n",
       "    <tr>\n",
       "      <th>32</th>\n",
       "      <td>0</td>\n",
       "      <td>Even with a cast that boasts such generally re...</td>\n",
       "      <td>4</td>\n",
       "      <td>0.994951</td>\n",
       "      <td>0.005049</td>\n",
       "      <td>0</td>\n",
       "    </tr>\n",
       "    <tr>\n",
       "      <th>33</th>\n",
       "      <td>1</td>\n",
       "      <td>Maybe the movie itself isn't one of the best J...</td>\n",
       "      <td>10</td>\n",
       "      <td>0.007990</td>\n",
       "      <td>0.992010</td>\n",
       "      <td>1</td>\n",
       "    </tr>\n",
       "    <tr>\n",
       "      <th>34</th>\n",
       "      <td>1</td>\n",
       "      <td>This is one of the creepiest, scariest and mos...</td>\n",
       "      <td>10</td>\n",
       "      <td>0.000135</td>\n",
       "      <td>0.999865</td>\n",
       "      <td>1</td>\n",
       "    </tr>\n",
       "    <tr>\n",
       "      <th>35</th>\n",
       "      <td>0</td>\n",
       "      <td>Look, there's nothing spectacularly offensive ...</td>\n",
       "      <td>2</td>\n",
       "      <td>0.999365</td>\n",
       "      <td>0.000635</td>\n",
       "      <td>0</td>\n",
       "    </tr>\n",
       "    <tr>\n",
       "      <th>37</th>\n",
       "      <td>0</td>\n",
       "      <td>It's kind of fascinating to me that so many re...</td>\n",
       "      <td>4</td>\n",
       "      <td>0.266471</td>\n",
       "      <td>0.733529</td>\n",
       "      <td>1</td>\n",
       "    </tr>\n",
       "    <tr>\n",
       "      <th>38</th>\n",
       "      <td>0</td>\n",
       "      <td>I watched the DVD (called BLACK WIDOW in the U...</td>\n",
       "      <td>1</td>\n",
       "      <td>0.997642</td>\n",
       "      <td>0.002358</td>\n",
       "      <td>0</td>\n",
       "    </tr>\n",
       "    <tr>\n",
       "      <th>39</th>\n",
       "      <td>1</td>\n",
       "      <td>I loved this movie. I knew it would be chocked...</td>\n",
       "      <td>9</td>\n",
       "      <td>0.000883</td>\n",
       "      <td>0.999117</td>\n",
       "      <td>1</td>\n",
       "    </tr>\n",
       "    <tr>\n",
       "      <th>41</th>\n",
       "      <td>1</td>\n",
       "      <td>This movie was one of the best movies that I h...</td>\n",
       "      <td>10</td>\n",
       "      <td>0.003278</td>\n",
       "      <td>0.996722</td>\n",
       "      <td>1</td>\n",
       "    </tr>\n",
       "    <tr>\n",
       "      <th>54</th>\n",
       "      <td>1</td>\n",
       "      <td>a timeless classic, wonderfully acted with per...</td>\n",
       "      <td>10</td>\n",
       "      <td>0.000252</td>\n",
       "      <td>0.999748</td>\n",
       "      <td>1</td>\n",
       "    </tr>\n",
       "    <tr>\n",
       "      <th>56</th>\n",
       "      <td>0</td>\n",
       "      <td>I can't think of much to say about this film. ...</td>\n",
       "      <td>1</td>\n",
       "      <td>0.999967</td>\n",
       "      <td>0.000033</td>\n",
       "      <td>0</td>\n",
       "    </tr>\n",
       "    <tr>\n",
       "      <th>57</th>\n",
       "      <td>1</td>\n",
       "      <td>Castle in the sky is undoubtedly a Hayao Miyaz...</td>\n",
       "      <td>8</td>\n",
       "      <td>0.030002</td>\n",
       "      <td>0.969998</td>\n",
       "      <td>1</td>\n",
       "    </tr>\n",
       "  </tbody>\n",
       "</table>\n",
       "</div>"
      ],
      "text/plain": [
       "    labels                                               text  rating  \\\n",
       "0        0  Another trashy Grade Z quickie from the prolif...       1   \n",
       "1        0  This show stinks. For parents, they usually wa...       2   \n",
       "5        1  Just two comments....SEVEN years apart? Hardly...       7   \n",
       "8        0  SOME NOT-SO-SPOILY SPOILERS AHEAD<br /><br />W...       4   \n",
       "10       1  This is a very funny movie, easy to watch, tha...       7   \n",
       "12       1  This film (like Astaire's ROYAL WEDDING - whic...      10   \n",
       "14       0  OK. So it's a low-budget \"film\" (I used the qu...       1   \n",
       "22       1  This slick and gritty film consistently delive...       9   \n",
       "25       1  As Jack Nicholson's directorial debut, Drive, ...       7   \n",
       "32       0  Even with a cast that boasts such generally re...       4   \n",
       "33       1  Maybe the movie itself isn't one of the best J...      10   \n",
       "34       1  This is one of the creepiest, scariest and mos...      10   \n",
       "35       0  Look, there's nothing spectacularly offensive ...       2   \n",
       "37       0  It's kind of fascinating to me that so many re...       4   \n",
       "38       0  I watched the DVD (called BLACK WIDOW in the U...       1   \n",
       "39       1  I loved this movie. I knew it would be chocked...       9   \n",
       "41       1  This movie was one of the best movies that I h...      10   \n",
       "54       1  a timeless classic, wonderfully acted with per...      10   \n",
       "56       0  I can't think of much to say about this film. ...       1   \n",
       "57       1  Castle in the sky is undoubtedly a Hayao Miyaz...       8   \n",
       "\n",
       "       pred0     pred1  pred_label  \n",
       "0   0.999561  0.000439           0  \n",
       "1   0.983003  0.016996           0  \n",
       "5   0.994822  0.005178           0  \n",
       "8   0.982671  0.017329           0  \n",
       "10  0.000811  0.999189           1  \n",
       "12  0.723827  0.276173           0  \n",
       "14  0.999644  0.000356           0  \n",
       "22  0.002250  0.997750           1  \n",
       "25  0.006704  0.993296           1  \n",
       "32  0.994951  0.005049           0  \n",
       "33  0.007990  0.992010           1  \n",
       "34  0.000135  0.999865           1  \n",
       "35  0.999365  0.000635           0  \n",
       "37  0.266471  0.733529           1  \n",
       "38  0.997642  0.002358           0  \n",
       "39  0.000883  0.999117           1  \n",
       "41  0.003278  0.996722           1  \n",
       "54  0.000252  0.999748           1  \n",
       "56  0.999967  0.000033           0  \n",
       "57  0.030002  0.969998           1  "
      ]
     },
     "execution_count": 30,
     "metadata": {},
     "output_type": "execute_result"
    }
   ],
   "source": [
    "trn_df.head(20)"
   ]
  },
  {
   "cell_type": "markdown",
   "metadata": {},
   "source": [
    "Indeed, many of the marginal ratings (4 & 7) are a greater % of the errors"
   ]
  },
  {
   "cell_type": "code",
   "execution_count": 31,
   "metadata": {},
   "outputs": [
    {
     "data": {
      "text/plain": [
       "1      92\n",
       "2      66\n",
       "3      97\n",
       "4     244\n",
       "7     274\n",
       "8     134\n",
       "9      57\n",
       "10    143\n",
       "Name: rating, dtype: int64"
      ]
     },
     "execution_count": 31,
     "metadata": {},
     "output_type": "execute_result"
    }
   ],
   "source": [
    "trn_df[trn_df.pred_label != trn_df.labels].rating.value_counts().sort_index()"
   ]
  },
  {
   "cell_type": "code",
   "execution_count": 32,
   "metadata": {},
   "outputs": [
    {
     "data": {
      "text/plain": [
       "1     5100\n",
       "2     2284\n",
       "3     2420\n",
       "4     2696\n",
       "7     2496\n",
       "8     3009\n",
       "9     2263\n",
       "10    4732\n",
       "Name: rating, dtype: int64"
      ]
     },
     "execution_count": 32,
     "metadata": {},
     "output_type": "execute_result"
    }
   ],
   "source": [
    "trn_df.rating.value_counts().sort_index()"
   ]
  },
  {
   "cell_type": "code",
   "execution_count": 33,
   "metadata": {},
   "outputs": [
    {
     "data": {
      "text/plain": [
       "1     0.018039\n",
       "2     0.028897\n",
       "3     0.040083\n",
       "4     0.090504\n",
       "7     0.109776\n",
       "8     0.044533\n",
       "9     0.025188\n",
       "10    0.030220\n",
       "Name: rating, dtype: float64"
      ]
     },
     "execution_count": 33,
     "metadata": {},
     "output_type": "execute_result"
    }
   ],
   "source": [
    "trn_df[trn_df.pred_label != trn_df.labels].rating.value_counts().sort_index() / trn_df.rating.value_counts().sort_index()"
   ]
  },
  {
   "cell_type": "code",
   "execution_count": 1,
   "metadata": {},
   "outputs": [
    {
     "ename": "NameError",
     "evalue": "name 'pd' is not defined",
     "output_type": "error",
     "traceback": [
      "\u001b[0;31m---------------------------------------------------------------------------\u001b[0m",
      "\u001b[0;31mNameError\u001b[0m                                 Traceback (most recent call last)",
      "\u001b[0;32m<ipython-input-1-72572e70b73d>\u001b[0m in \u001b[0;36m<module>\u001b[0;34m\u001b[0m\n\u001b[0;32m----> 1\u001b[0;31m \u001b[0mbwd_trn_df\u001b[0m \u001b[0;34m=\u001b[0m \u001b[0mpd\u001b[0m\u001b[0;34m.\u001b[0m\u001b[0mread_csv\u001b[0m\u001b[0;34m(\u001b[0m\u001b[0;34m'bwd_training_classification.csv'\u001b[0m\u001b[0;34m,\u001b[0m\u001b[0mindex_col\u001b[0m\u001b[0;34m=\u001b[0m\u001b[0;36m0\u001b[0m\u001b[0;34m)\u001b[0m\u001b[0;34m\u001b[0m\u001b[0;34m\u001b[0m\u001b[0m\n\u001b[0m",
      "\u001b[0;31mNameError\u001b[0m: name 'pd' is not defined"
     ]
    }
   ],
   "source": [
    "bwd_trn_df = pd.read_csv('bwd_training_classification.csv',index_col=0)"
   ]
  },
  {
   "cell_type": "code",
   "execution_count": null,
   "metadata": {},
   "outputs": [],
   "source": []
  },
  {
   "cell_type": "code",
   "execution_count": null,
   "metadata": {},
   "outputs": [],
   "source": []
  },
  {
   "cell_type": "markdown",
   "metadata": {},
   "source": [
    "FocalLoss?  Can we just apply more error to the cases in the training that are near the margin?"
   ]
  },
  {
   "cell_type": "code",
   "execution_count": 108,
   "metadata": {},
   "outputs": [
    {
     "data": {
      "text/plain": [
       "0.03"
      ]
     },
     "execution_count": 108,
     "metadata": {},
     "output_type": "execute_result"
    }
   ],
   "source": [
    "150/5000"
   ]
  },
  {
   "cell_type": "code",
   "execution_count": 109,
   "metadata": {},
   "outputs": [
    {
     "data": {
      "text/plain": [
       "0.0406"
      ]
     },
     "execution_count": 109,
     "metadata": {},
     "output_type": "execute_result"
    }
   ],
   "source": [
    "203/5000"
   ]
  },
  {
   "cell_type": "code",
   "execution_count": 123,
   "metadata": {},
   "outputs": [
    {
     "data": {
      "text/plain": [
       "(25000, 6)"
      ]
     },
     "execution_count": 123,
     "metadata": {},
     "output_type": "execute_result"
    }
   ],
   "source": [
    "trn_df.shape"
   ]
  },
  {
   "cell_type": "code",
   "execution_count": null,
   "metadata": {},
   "outputs": [],
   "source": []
  }
 ],
 "metadata": {
  "kernelspec": {
   "display_name": "Python 3.7 fasta.ai1 DEV",
   "language": "python",
   "name": "fastai1_dev"
  },
  "language_info": {
   "codemirror_mode": {
    "name": "ipython",
    "version": 3
   },
   "file_extension": ".py",
   "mimetype": "text/x-python",
   "name": "python",
   "nbconvert_exporter": "python",
   "pygments_lexer": "ipython3",
   "version": "3.7.1"
  },
  "varInspector": {
   "cols": {
    "lenName": 16,
    "lenType": 16,
    "lenVar": 40
   },
   "kernels_config": {
    "python": {
     "delete_cmd_postfix": "",
     "delete_cmd_prefix": "del ",
     "library": "var_list.py",
     "varRefreshCmd": "print(var_dic_list())"
    },
    "r": {
     "delete_cmd_postfix": ") ",
     "delete_cmd_prefix": "rm(",
     "library": "var_list.r",
     "varRefreshCmd": "cat(var_dic_list()) "
    }
   },
   "types_to_exclude": [
    "module",
    "function",
    "builtin_function_or_method",
    "instance",
    "_Feature"
   ],
   "window_display": false
  }
 },
 "nbformat": 4,
 "nbformat_minor": 2
}
